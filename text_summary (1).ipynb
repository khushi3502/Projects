{
  "nbformat": 4,
  "nbformat_minor": 0,
  "metadata": {
    "colab": {
      "provenance": []
    },
    "kernelspec": {
      "name": "python3",
      "display_name": "Python 3"
    },
    "language_info": {
      "name": "python"
    }
  },
  "cells": [
    {
      "cell_type": "code",
      "execution_count": null,
      "metadata": {
        "colab": {
          "base_uri": "https://localhost:8080/"
        },
        "id": "NTDGM2YgEvFP",
        "outputId": "acb58f95-8963-46fa-c450-2c59d01f4611"
      },
      "outputs": [
        {
          "output_type": "stream",
          "name": "stdout",
          "text": [
            "Collecting vaderSentiment\n",
            "  Downloading vaderSentiment-3.3.2-py2.py3-none-any.whl (125 kB)\n",
            "\u001b[2K     \u001b[90m━━━━━━━━━━━━━━━━━━━━━━━━━━━━━━━━━━━━━━━━\u001b[0m \u001b[32m126.0/126.0 kB\u001b[0m \u001b[31m3.1 MB/s\u001b[0m eta \u001b[36m0:00:00\u001b[0m\n",
            "\u001b[?25hRequirement already satisfied: requests in /usr/local/lib/python3.10/dist-packages (from vaderSentiment) (2.31.0)\n",
            "Requirement already satisfied: charset-normalizer<4,>=2 in /usr/local/lib/python3.10/dist-packages (from requests->vaderSentiment) (3.3.1)\n",
            "Requirement already satisfied: idna<4,>=2.5 in /usr/local/lib/python3.10/dist-packages (from requests->vaderSentiment) (3.4)\n",
            "Requirement already satisfied: urllib3<3,>=1.21.1 in /usr/local/lib/python3.10/dist-packages (from requests->vaderSentiment) (2.0.7)\n",
            "Requirement already satisfied: certifi>=2017.4.17 in /usr/local/lib/python3.10/dist-packages (from requests->vaderSentiment) (2023.7.22)\n",
            "Installing collected packages: vaderSentiment\n",
            "Successfully installed vaderSentiment-3.3.2\n"
          ]
        }
      ],
      "source": [
        "pip install vaderSentiment"
      ]
    },
    {
      "cell_type": "code",
      "source": [
        "pip install gensim"
      ],
      "metadata": {
        "colab": {
          "base_uri": "https://localhost:8080/"
        },
        "id": "0Sp4iJcVEzye",
        "outputId": "dec3f60f-1cc6-4dce-b7b4-c2fa307fe493"
      },
      "execution_count": null,
      "outputs": [
        {
          "output_type": "stream",
          "name": "stdout",
          "text": [
            "Requirement already satisfied: gensim in /usr/local/lib/python3.10/dist-packages (4.3.2)\n",
            "Requirement already satisfied: numpy>=1.18.5 in /usr/local/lib/python3.10/dist-packages (from gensim) (1.23.5)\n",
            "Requirement already satisfied: scipy>=1.7.0 in /usr/local/lib/python3.10/dist-packages (from gensim) (1.11.3)\n",
            "Requirement already satisfied: smart-open>=1.8.1 in /usr/local/lib/python3.10/dist-packages (from gensim) (6.4.0)\n"
          ]
        }
      ]
    },
    {
      "cell_type": "code",
      "source": [
        "pip install nltk"
      ],
      "metadata": {
        "colab": {
          "base_uri": "https://localhost:8080/"
        },
        "id": "q82ARblNE4n2",
        "outputId": "1054257e-d689-418b-e15b-50811d0dee0a"
      },
      "execution_count": null,
      "outputs": [
        {
          "output_type": "stream",
          "name": "stdout",
          "text": [
            "Requirement already satisfied: nltk in /usr/local/lib/python3.10/dist-packages (3.8.1)\n",
            "Requirement already satisfied: click in /usr/local/lib/python3.10/dist-packages (from nltk) (8.1.7)\n",
            "Requirement already satisfied: joblib in /usr/local/lib/python3.10/dist-packages (from nltk) (1.3.2)\n",
            "Requirement already satisfied: regex>=2021.8.3 in /usr/local/lib/python3.10/dist-packages (from nltk) (2023.6.3)\n",
            "Requirement already satisfied: tqdm in /usr/local/lib/python3.10/dist-packages (from nltk) (4.66.1)\n"
          ]
        }
      ]
    },
    {
      "cell_type": "code",
      "source": [
        "pip install spacy"
      ],
      "metadata": {
        "colab": {
          "base_uri": "https://localhost:8080/"
        },
        "id": "yN680ZVOFGOG",
        "outputId": "9dbf63e0-afa7-41d5-d335-164c990c7289"
      },
      "execution_count": null,
      "outputs": [
        {
          "output_type": "stream",
          "name": "stdout",
          "text": [
            "Requirement already satisfied: spacy in /usr/local/lib/python3.10/dist-packages (3.6.1)\n",
            "Requirement already satisfied: spacy-legacy<3.1.0,>=3.0.11 in /usr/local/lib/python3.10/dist-packages (from spacy) (3.0.12)\n",
            "Requirement already satisfied: spacy-loggers<2.0.0,>=1.0.0 in /usr/local/lib/python3.10/dist-packages (from spacy) (1.0.5)\n",
            "Requirement already satisfied: murmurhash<1.1.0,>=0.28.0 in /usr/local/lib/python3.10/dist-packages (from spacy) (1.0.10)\n",
            "Requirement already satisfied: cymem<2.1.0,>=2.0.2 in /usr/local/lib/python3.10/dist-packages (from spacy) (2.0.8)\n",
            "Requirement already satisfied: preshed<3.1.0,>=3.0.2 in /usr/local/lib/python3.10/dist-packages (from spacy) (3.0.9)\n",
            "Requirement already satisfied: thinc<8.2.0,>=8.1.8 in /usr/local/lib/python3.10/dist-packages (from spacy) (8.1.12)\n",
            "Requirement already satisfied: wasabi<1.2.0,>=0.9.1 in /usr/local/lib/python3.10/dist-packages (from spacy) (1.1.2)\n",
            "Requirement already satisfied: srsly<3.0.0,>=2.4.3 in /usr/local/lib/python3.10/dist-packages (from spacy) (2.4.8)\n",
            "Requirement already satisfied: catalogue<2.1.0,>=2.0.6 in /usr/local/lib/python3.10/dist-packages (from spacy) (2.0.10)\n",
            "Requirement already satisfied: typer<0.10.0,>=0.3.0 in /usr/local/lib/python3.10/dist-packages (from spacy) (0.9.0)\n",
            "Requirement already satisfied: pathy>=0.10.0 in /usr/local/lib/python3.10/dist-packages (from spacy) (0.10.3)\n",
            "Requirement already satisfied: smart-open<7.0.0,>=5.2.1 in /usr/local/lib/python3.10/dist-packages (from spacy) (6.4.0)\n",
            "Requirement already satisfied: tqdm<5.0.0,>=4.38.0 in /usr/local/lib/python3.10/dist-packages (from spacy) (4.66.1)\n",
            "Requirement already satisfied: numpy>=1.15.0 in /usr/local/lib/python3.10/dist-packages (from spacy) (1.23.5)\n",
            "Requirement already satisfied: requests<3.0.0,>=2.13.0 in /usr/local/lib/python3.10/dist-packages (from spacy) (2.31.0)\n",
            "Requirement already satisfied: pydantic!=1.8,!=1.8.1,<3.0.0,>=1.7.4 in /usr/local/lib/python3.10/dist-packages (from spacy) (1.10.13)\n",
            "Requirement already satisfied: jinja2 in /usr/local/lib/python3.10/dist-packages (from spacy) (3.1.2)\n",
            "Requirement already satisfied: setuptools in /usr/local/lib/python3.10/dist-packages (from spacy) (67.7.2)\n",
            "Requirement already satisfied: packaging>=20.0 in /usr/local/lib/python3.10/dist-packages (from spacy) (23.2)\n",
            "Requirement already satisfied: langcodes<4.0.0,>=3.2.0 in /usr/local/lib/python3.10/dist-packages (from spacy) (3.3.0)\n",
            "Requirement already satisfied: typing-extensions>=4.2.0 in /usr/local/lib/python3.10/dist-packages (from pydantic!=1.8,!=1.8.1,<3.0.0,>=1.7.4->spacy) (4.5.0)\n",
            "Requirement already satisfied: charset-normalizer<4,>=2 in /usr/local/lib/python3.10/dist-packages (from requests<3.0.0,>=2.13.0->spacy) (3.3.1)\n",
            "Requirement already satisfied: idna<4,>=2.5 in /usr/local/lib/python3.10/dist-packages (from requests<3.0.0,>=2.13.0->spacy) (3.4)\n",
            "Requirement already satisfied: urllib3<3,>=1.21.1 in /usr/local/lib/python3.10/dist-packages (from requests<3.0.0,>=2.13.0->spacy) (2.0.7)\n",
            "Requirement already satisfied: certifi>=2017.4.17 in /usr/local/lib/python3.10/dist-packages (from requests<3.0.0,>=2.13.0->spacy) (2023.7.22)\n",
            "Requirement already satisfied: blis<0.8.0,>=0.7.8 in /usr/local/lib/python3.10/dist-packages (from thinc<8.2.0,>=8.1.8->spacy) (0.7.11)\n",
            "Requirement already satisfied: confection<1.0.0,>=0.0.1 in /usr/local/lib/python3.10/dist-packages (from thinc<8.2.0,>=8.1.8->spacy) (0.1.3)\n",
            "Requirement already satisfied: click<9.0.0,>=7.1.1 in /usr/local/lib/python3.10/dist-packages (from typer<0.10.0,>=0.3.0->spacy) (8.1.7)\n",
            "Requirement already satisfied: MarkupSafe>=2.0 in /usr/local/lib/python3.10/dist-packages (from jinja2->spacy) (2.1.3)\n"
          ]
        }
      ]
    },
    {
      "cell_type": "code",
      "source": [
        "pip install transformers"
      ],
      "metadata": {
        "colab": {
          "base_uri": "https://localhost:8080/"
        },
        "id": "hGEGmTCEFR_O",
        "outputId": "7036adf2-2efa-4d2a-e980-1ff825670127"
      },
      "execution_count": null,
      "outputs": [
        {
          "output_type": "stream",
          "name": "stdout",
          "text": [
            "Collecting transformers\n",
            "  Downloading transformers-4.34.1-py3-none-any.whl (7.7 MB)\n",
            "\u001b[2K     \u001b[90m━━━━━━━━━━━━━━━━━━━━━━━━━━━━━━━━━━━━━━━━\u001b[0m \u001b[32m7.7/7.7 MB\u001b[0m \u001b[31m41.8 MB/s\u001b[0m eta \u001b[36m0:00:00\u001b[0m\n",
            "\u001b[?25hRequirement already satisfied: filelock in /usr/local/lib/python3.10/dist-packages (from transformers) (3.12.4)\n",
            "Collecting huggingface-hub<1.0,>=0.16.4 (from transformers)\n",
            "  Downloading huggingface_hub-0.18.0-py3-none-any.whl (301 kB)\n",
            "\u001b[2K     \u001b[90m━━━━━━━━━━━━━━━━━━━━━━━━━━━━━━━━━━━━━━━━\u001b[0m \u001b[32m302.0/302.0 kB\u001b[0m \u001b[31m30.9 MB/s\u001b[0m eta \u001b[36m0:00:00\u001b[0m\n",
            "\u001b[?25hRequirement already satisfied: numpy>=1.17 in /usr/local/lib/python3.10/dist-packages (from transformers) (1.23.5)\n",
            "Requirement already satisfied: packaging>=20.0 in /usr/local/lib/python3.10/dist-packages (from transformers) (23.2)\n",
            "Requirement already satisfied: pyyaml>=5.1 in /usr/local/lib/python3.10/dist-packages (from transformers) (6.0.1)\n",
            "Requirement already satisfied: regex!=2019.12.17 in /usr/local/lib/python3.10/dist-packages (from transformers) (2023.6.3)\n",
            "Requirement already satisfied: requests in /usr/local/lib/python3.10/dist-packages (from transformers) (2.31.0)\n",
            "Collecting tokenizers<0.15,>=0.14 (from transformers)\n",
            "  Downloading tokenizers-0.14.1-cp310-cp310-manylinux_2_17_x86_64.manylinux2014_x86_64.whl (3.8 MB)\n",
            "\u001b[2K     \u001b[90m━━━━━━━━━━━━━━━━━━━━━━━━━━━━━━━━━━━━━━━━\u001b[0m \u001b[32m3.8/3.8 MB\u001b[0m \u001b[31m73.2 MB/s\u001b[0m eta \u001b[36m0:00:00\u001b[0m\n",
            "\u001b[?25hCollecting safetensors>=0.3.1 (from transformers)\n",
            "  Downloading safetensors-0.4.0-cp310-cp310-manylinux_2_17_x86_64.manylinux2014_x86_64.whl (1.3 MB)\n",
            "\u001b[2K     \u001b[90m━━━━━━━━━━━━━━━━━━━━━━━━━━━━━━━━━━━━━━━━\u001b[0m \u001b[32m1.3/1.3 MB\u001b[0m \u001b[31m63.7 MB/s\u001b[0m eta \u001b[36m0:00:00\u001b[0m\n",
            "\u001b[?25hRequirement already satisfied: tqdm>=4.27 in /usr/local/lib/python3.10/dist-packages (from transformers) (4.66.1)\n",
            "Requirement already satisfied: fsspec>=2023.5.0 in /usr/local/lib/python3.10/dist-packages (from huggingface-hub<1.0,>=0.16.4->transformers) (2023.6.0)\n",
            "Requirement already satisfied: typing-extensions>=3.7.4.3 in /usr/local/lib/python3.10/dist-packages (from huggingface-hub<1.0,>=0.16.4->transformers) (4.5.0)\n",
            "Collecting huggingface-hub<1.0,>=0.16.4 (from transformers)\n",
            "  Downloading huggingface_hub-0.17.3-py3-none-any.whl (295 kB)\n",
            "\u001b[2K     \u001b[90m━━━━━━━━━━━━━━━━━━━━━━━━━━━━━━━━━━━━━━━━\u001b[0m \u001b[32m295.0/295.0 kB\u001b[0m \u001b[31m28.9 MB/s\u001b[0m eta \u001b[36m0:00:00\u001b[0m\n",
            "\u001b[?25hRequirement already satisfied: charset-normalizer<4,>=2 in /usr/local/lib/python3.10/dist-packages (from requests->transformers) (3.3.1)\n",
            "Requirement already satisfied: idna<4,>=2.5 in /usr/local/lib/python3.10/dist-packages (from requests->transformers) (3.4)\n",
            "Requirement already satisfied: urllib3<3,>=1.21.1 in /usr/local/lib/python3.10/dist-packages (from requests->transformers) (2.0.7)\n",
            "Requirement already satisfied: certifi>=2017.4.17 in /usr/local/lib/python3.10/dist-packages (from requests->transformers) (2023.7.22)\n",
            "Installing collected packages: safetensors, huggingface-hub, tokenizers, transformers\n",
            "Successfully installed huggingface-hub-0.17.3 safetensors-0.4.0 tokenizers-0.14.1 transformers-4.34.1\n"
          ]
        }
      ]
    },
    {
      "cell_type": "code",
      "source": [
        "pip install reportlab"
      ],
      "metadata": {
        "colab": {
          "base_uri": "https://localhost:8080/"
        },
        "id": "NW91WcMEGIZc",
        "outputId": "7e11a356-71d8-4489-f774-44b1e7a3908f"
      },
      "execution_count": null,
      "outputs": [
        {
          "output_type": "stream",
          "name": "stdout",
          "text": [
            "Collecting reportlab\n",
            "  Downloading reportlab-4.0.6-py3-none-any.whl (1.9 MB)\n",
            "\u001b[2K     \u001b[90m━━━━━━━━━━━━━━━━━━━━━━━━━━━━━━━━━━━━━━━━\u001b[0m \u001b[32m1.9/1.9 MB\u001b[0m \u001b[31m7.5 MB/s\u001b[0m eta \u001b[36m0:00:00\u001b[0m\n",
            "\u001b[?25hRequirement already satisfied: pillow>=9.0.0 in /usr/local/lib/python3.10/dist-packages (from reportlab) (9.4.0)\n",
            "Installing collected packages: reportlab\n",
            "Successfully installed reportlab-4.0.6\n"
          ]
        }
      ]
    },
    {
      "cell_type": "code",
      "source": [
        "import nltk\n",
        "from nltk.tokenize import sent_tokenize, word_tokenize\n",
        "from nltk.probability import FreqDist\n",
        "from nltk.corpus import stopwords\n",
        "import spacy  # Import spaCy library\n",
        "from gensim import corpora, models\n",
        "from vaderSentiment.vaderSentiment import SentimentIntensityAnalyzer\n",
        "from transformers import GPT2Tokenizer, GPT2LMHeadModel\n",
        "import matplotlib.pyplot as plt\n",
        "from reportlab.lib.pagesizes import letter\n",
        "from reportlab.platypus import SimpleDocTemplate, Paragraph, Spacer\n",
        "from reportlab.lib.styles import getSampleStyleSheet\n",
        "from reportlab.lib import colors\n",
        "from reportlab.platypus import Table, TableStyle"
      ],
      "metadata": {
        "id": "NUWCcwU3HMGt"
      },
      "execution_count": null,
      "outputs": []
    },
    {
      "cell_type": "code",
      "source": [
        "# Download NLTK resources (if not already downloaded)\n",
        "nltk.download('punkt')\n",
        "nltk.download('stopwords')\n",
        "\n",
        "# Load the spaCy NER model\n",
        "nlp = spacy.load(\"en_core_web_sm\")\n"
      ],
      "metadata": {
        "colab": {
          "base_uri": "https://localhost:8080/"
        },
        "id": "B5llkeCPHQvy",
        "outputId": "f0bdd559-48e4-489b-f9b2-34116ea0e40b"
      },
      "execution_count": null,
      "outputs": [
        {
          "output_type": "stream",
          "name": "stderr",
          "text": [
            "[nltk_data] Downloading package punkt to /root/nltk_data...\n",
            "[nltk_data]   Package punkt is already up-to-date!\n",
            "[nltk_data] Downloading package stopwords to /root/nltk_data...\n",
            "[nltk_data]   Package stopwords is already up-to-date!\n"
          ]
        }
      ]
    },
    {
      "cell_type": "code",
      "source": [
        "def analyze_text(user_input):\n",
        "    # Tokenize the input text into sentences and words\n",
        "    sentences = sent_tokenize(user_input)\n",
        "    words = word_tokenize(user_input)\n",
        "\n",
        "    # Remove stopwords (common words like 'the', 'is', etc.)\n",
        "    stop_words = set(stopwords.words('english'))\n",
        "    filtered_words = [word.lower() for word in words if word.isalnum() and word.lower() not in stop_words]\n",
        "\n",
        "    # Calculate word frequency distribution\n",
        "    fdist = FreqDist(filtered_words)\n",
        "\n",
        "    return {\n",
        "        'sentences': sentences,\n",
        "        'word_count': len(words),\n",
        "        'unique_words': len(set(filtered_words)),\n",
        "        'most_common_words': fdist.most_common(10)\n",
        "    }\n"
      ],
      "metadata": {
        "id": "jnvqqaD3HVsc"
      },
      "execution_count": null,
      "outputs": []
    },
    {
      "cell_type": "code",
      "source": [
        "def perform_topic_modeling(user_input):\n",
        "    # Tokenize and preprocess the input text\n",
        "    sentences = sent_tokenize(user_input)\n",
        "    words = word_tokenize(user_input)\n",
        "\n",
        "    # Remove stopwords (common words like 'the', 'is', etc.)\n",
        "    stop_words = set(stopwords.words('english'))\n",
        "    filtered_words = [word.lower() for word in words if word.isalnum() and word.lower() not in stop_words]\n",
        "\n",
        "    # Create a dictionary and corpus\n",
        "    dictionary = corpora.Dictionary([filtered_words])\n",
        "    corpus = [dictionary.doc2bow(filtered_words)]\n",
        "\n",
        "    # Apply LDA\n",
        "    lda_model = models.LdaModel(corpus, num_topics=5, id2word=dictionary)\n",
        "\n",
        "    topics = lda_model.print_topics()\n",
        "    return {\n",
        "        'sentences': sentences,\n",
        "        'word_count': len(words),\n",
        "        'unique_words': len(set(filtered_words)),\n",
        "        'most_common_words': FreqDist(filtered_words).most_common(10),\n",
        "        'topics': topics\n",
        "    }"
      ],
      "metadata": {
        "id": "1vMQfWrgHa1x"
      },
      "execution_count": null,
      "outputs": []
    },
    {
      "cell_type": "code",
      "source": [
        "def perform_sentiment_analysis(user_input):\n",
        "    analyzer = SentimentIntensityAnalyzer()\n",
        "    sentiment = analyzer.polarity_scores(user_input)\n",
        "\n",
        "    if sentiment['compound'] >= 0.05:\n",
        "        return \"Positive\"\n",
        "    elif sentiment['compound'] <= -0.05:\n",
        "        return \"Negative\"\n",
        "    else:\n",
        "        return \"Neutral\""
      ],
      "metadata": {
        "id": "V2Fo5rZKHkf8"
      },
      "execution_count": null,
      "outputs": []
    },
    {
      "cell_type": "code",
      "source": [
        "def text_summarization(user_input):\n",
        "    # Load the pre-trained GPT-2 model and tokenizer\n",
        "    model_name = \"gpt2\"  # You can choose another variant if needed\n",
        "    tokenizer = GPT2Tokenizer.from_pretrained(model_name)\n",
        "    model = GPT2LMHeadModel.from_pretrained(model_name)\n",
        "\n",
        "    # Tokenize the input text\n",
        "    input_ids = tokenizer.encode(user_input, return_tensors=\"pt\", max_length=1024, truncation=True)\n",
        "\n",
        "    # Calculate a reasonable max_length based on the input length\n",
        "    max_length = len(input_ids[0]) + 50  # You can adjust this number as needed\n",
        "\n",
        "    # Generate a summary using the model\n",
        "    summary_ids = model.generate(input_ids, max_length=max_length, num_beams=4, length_penalty=2.0, early_stopping=True)\n",
        "\n",
        "    # Decode the summary and return it as a string\n",
        "    summary = tokenizer.decode(summary_ids[0], skip_special_tokens=True)\n",
        "    return summary\n",
        "\n"
      ],
      "metadata": {
        "id": "5JsslYHmHqJD"
      },
      "execution_count": null,
      "outputs": []
    },
    {
      "cell_type": "code",
      "source": [
        "def perform_ner(user_input):\n",
        "    # Use spaCy NER model to extract named entities\n",
        "    doc = nlp(user_input)\n",
        "    named_entities = [(ent.text, ent.label_) for ent in doc.ents]\n",
        "    return named_entities\n",
        "def create_visual_report(analysis_result, lda_result, sentiment, summary):\n",
        "    # Visualization for word frequency distribution\n",
        "    most_common_words = analysis_result['most_common_words']\n",
        "    words, frequencies = zip(*most_common_words)\n",
        "    plt.figure(figsize=(10, 6))\n",
        "    plt.barh(words, frequencies)\n",
        "    plt.title('Top 10 Most Common Words')\n",
        "    plt.xlabel('Frequency')\n",
        "    plt.ylabel('Words')\n",
        "    plt.gca().invert_yaxis()  # Invert the y-axis for better readability\n",
        "    plt.show()\n",
        "\n",
        "    # Visualize sentiment\n",
        "    plt.figure(figsize=(6, 4))\n",
        "    plt.pie([sentiment.count(\"Positive\"), sentiment.count(\"Negative\"), sentiment.count(\"Neutral\")],\n",
        "            labels=[\"Positive\", \"Negative\", \"Neutral\"],\n",
        "            autopct='%1.1f%%',\n",
        "            startangle=140)\n",
        "    plt.title('Sentiment Analysis')\n",
        "    plt.show()"
      ],
      "metadata": {
        "id": "fz4T7TrHH5O2"
      },
      "execution_count": null,
      "outputs": []
    },
    {
      "cell_type": "code",
      "source": [
        "def create_pdf_report(analysis_result, lda_result, sentiment, summary):\n",
        "    doc = SimpleDocTemplate(\"analysis_report.pdf\", pagesize=letter)\n",
        "    styles = getSampleStyleSheet()\n",
        "\n",
        "    # Create a list of elements to be included in the PDF\n",
        "    elements = []\n",
        "\n",
        "    # Add the title to the PDF\n",
        "    title = Paragraph(\"Text Analysis Report\", styles['Title'])\n",
        "    elements.append(title)\n",
        "    elements.append(Paragraph(\"Analysis Results:\", styles['Heading1']))\n",
        "    elements.append(Spacer(1, 12))\n",
        "    elements.append(Paragraph(f\"Sentences: {analysis_result['sentences']}\", styles['Normal']))\n",
        "    elements.append(Paragraph(f\"Total Word Count: {analysis_result['word_count']}\", styles['Normal']))\n",
        "    elements.append(Paragraph(f\"Unique Words: {analysis_result['unique_words']}\", styles['Normal']))\n",
        "    elements.append(Paragraph(\"Most Common Words:\", styles['Normal']))\n",
        "    elements.append(Paragraph(\"Text_Summary:\", styles['Normal']))\n",
        "    for word, frequency in analysis_result['most_common_words']:\n",
        "         elements.append(Paragraph(f\"{word}: {frequency}\", styles['Normal']))\n",
        "    most_common_words = analysis_result['most_common_words']\n",
        "    words, frequencies = zip(*most_common_words)\n",
        "    data = [list(words), list(frequencies)]  # Convert tuples to lists\n",
        "    table = Table(data, colWidths=150, rowHeights=20)\n",
        "    table.setStyle(TableStyle([('BACKGROUND', (0, 0), (-1, 0), colors.grey),\n",
        "                              ('TEXTCOLOR', (0, 0), (-1, 0), colors.whitesmoke),\n",
        "                              ('ALIGN', (0, 0), (-1, -1), 'CENTER'),\n",
        "                              ('FONTNAME', (0, 0), (-1, 0), 'Helvetica-Bold'),\n",
        "                              ('BOTTOMPADDING', (0, 0), (-1, 0), 12),\n",
        "                              ('BACKGROUND', (0, 1), (-1, -1), colors.beige),\n",
        "                              ('GRID', (0, 0), (-1, -1), 1, colors.black)]))\n",
        "    elements.append(Paragraph(\"Top 3 Most Common Words:\", styles['Heading1']))\n",
        "    elements.append(Spacer(1, 12))\n",
        "    elements.append(table)\n",
        "\n",
        "    # Create the PDF document\n",
        "    doc.build(elements)\n"
      ],
      "metadata": {
        "id": "Q2uBIETdIFId"
      },
      "execution_count": null,
      "outputs": []
    },
    {
      "cell_type": "code",
      "source": [
        "if __name__ == '__main__':\n",
        "    user_input = input(\"Enter text for analysis and summarization: \")\n",
        "    analysis_result = analyze_text(user_input)\n",
        "    lda_result = perform_topic_modeling(user_input)\n",
        "    sentiment = perform_sentiment_analysis(user_input)\n",
        "    summary = text_summarization(user_input)\n",
        "    named_entities = perform_ner(user_input)\n",
        "\n",
        "    print(\"\\nAnalysis Results:\")\n",
        "    print(f\"Sentences: {analysis_result['sentences']}\")\n",
        "    print(f\"Total Word Count: {analysis_result['word_count']}\")\n",
        "    print(f\"Unique Words: {analysis_result['unique_words']}\")\n",
        "    print(\"Most Common Words:\")\n",
        "    for word, frequency in analysis_result['most_common_words']:\n",
        "        print(f\"{word}: {frequency}\")\n",
        "\n",
        "    lda_result = perform_topic_modeling(user_input)\n",
        "    print(\"\\nTopics Identified:\")\n",
        "    for topic in lda_result['topics']:\n",
        "        print(topic)\n",
        "\n",
        "    sentiment = perform_sentiment_analysis(user_input)\n",
        "    print(f\"Sentiment: {sentiment}\")\n",
        "\n",
        "    summary = text_summarization(user_input)\n",
        "    print(f\"Text Summary: {summary}\")\n",
        "\n",
        "    named_entities = perform_ner(user_input)\n",
        "    print(\"\\nNamed Entities:\")\n",
        "    for entity, label in named_entities:\n",
        "        print(f\"{entity} - {label}\")\n",
        "    create_visual_report(analysis_result, lda_result, sentiment, summary)\n",
        "    create_pdf_report(analysis_result, lda_result,summary,named_entities)"
      ],
      "metadata": {
        "colab": {
          "base_uri": "https://localhost:8080/",
          "height": 1000
        },
        "id": "ZRAT9_RAIE_C",
        "outputId": "dfc394b8-9c0c-4edc-ca6d-bfd78e66e27c"
      },
      "execution_count": null,
      "outputs": [
        {
          "name": "stdout",
          "output_type": "stream",
          "text": [
            "Enter text for analysis and summarization: Better care for chronic conditions: Telemedicine can help patients with chronic conditions to manage their health more effectively, allowing them to receive regular check-ups and treatment without the need to travel long distances. This can improve the quality of life for these individuals and reduce the risk of complications from their conditions.  Increased flexibility for patients and healthcare providers: Telemedicine allows patients and providers to schedule consultations at times convenient for them, improving the overall flexibility of the healthcare system. This can help to reduce wait times and improve patient satisfaction.  Increased accessibility: Telemedicine makes healthcare more accessible to people living in rural and remote areas, who may not have easy access to medical facilities. With telemedicine, patients can consult with doctors and specialists from their homes using their phones, computers, or other devices. This means that more people will be able to get the medical care they need, regardless of where they live.  Reduced costs: One of the most significant benefits of telemedicine is that it can reduce healthcare costs. Patients can avoid the costs of travel, accommodation, and time off work associated with in-person visits to the doctor. Telemedicine can also help reduce the cost of medical procedures, as doctors can remotely monitor patients and provide care without needing hospitalization.  Improved health outcomes: By providing patients with access to medical care from the comfort of their own homes, telemedicine can help improve their health outcomes. For example, patients with chronic conditions can use telemedicine to manage their symptoms and reduce the risk of complications. Telemedicine can also help prevent the spread of infectious diseases, as patients can receive care without contacting other people.  Increased convenience: Telemedicine offers a more convenient option for patients who need medical care. With telemedicine, patients can schedule appointments and consult with doctors at a convenient time without having to take time off work or arrange transportation. This can be especially beneficial for people with busy schedules or mobility issues.  Telemedicine, or the use of electronic communication and information technologies to provide healthcare services remotely, has the potential to significantly impact the way we receive and deliver medical care. In the next 20 years, telemedicine will likely become an increasingly important part of our healthcare system, providing numerous benefits and improving the livelihood of many people.  The benefits of telemedicine are numerous. For patients, it provides convenient access to medical care without traveling long distances. It also allows for faster diagnosis and treatment and improved continuity of care. For healthcare providers, telemedicine can reduce the strain on already-overburdened healthcare systems and make providing care to patients in remote areas more accessible.  The rise of telemedicine will likely significantly impact how we receive medical care in the future. By 2040, it is estimated that telemedicine will be a standard part of the healthcare landscape, with more and more doctors using it to diagnose and treat patients remotely.\n"
          ]
        },
        {
          "output_type": "stream",
          "name": "stderr",
          "text": [
            "WARNING:gensim.models.ldamodel:too few updates, training might not converge; consider increasing the number of passes or iterations to improve accuracy\n",
            "The attention mask and the pad token id were not set. As a consequence, you may observe unexpected behavior. Please pass your input's `attention_mask` to obtain reliable results.\n",
            "Setting `pad_token_id` to `eos_token_id`:50256 for open-end generation.\n",
            "WARNING:gensim.models.ldamodel:too few updates, training might not converge; consider increasing the number of passes or iterations to improve accuracy\n"
          ]
        },
        {
          "output_type": "stream",
          "name": "stdout",
          "text": [
            "\n",
            "Analysis Results:\n",
            "Sentences: ['Better care for chronic conditions: Telemedicine can help patients with chronic conditions to manage their health more effectively, allowing them to receive regular check-ups and treatment without the need to travel long distances.', 'This can improve the quality of life for these individuals and reduce the risk of complications from their conditions.', 'Increased flexibility for patients and healthcare providers: Telemedicine allows patients and providers to schedule consultations at times convenient for them, improving the overall flexibility of the healthcare system.', 'This can help to reduce wait times and improve patient satisfaction.', 'Increased accessibility: Telemedicine makes healthcare more accessible to people living in rural and remote areas, who may not have easy access to medical facilities.', 'With telemedicine, patients can consult with doctors and specialists from their homes using their phones, computers, or other devices.', 'This means that more people will be able to get the medical care they need, regardless of where they live.', 'Reduced costs: One of the most significant benefits of telemedicine is that it can reduce healthcare costs.', 'Patients can avoid the costs of travel, accommodation, and time off work associated with in-person visits to the doctor.', 'Telemedicine can also help reduce the cost of medical procedures, as doctors can remotely monitor patients and provide care without needing hospitalization.', 'Improved health outcomes: By providing patients with access to medical care from the comfort of their own homes, telemedicine can help improve their health outcomes.', 'For example, patients with chronic conditions can use telemedicine to manage their symptoms and reduce the risk of complications.', 'Telemedicine can also help prevent the spread of infectious diseases, as patients can receive care without contacting other people.', 'Increased convenience: Telemedicine offers a more convenient option for patients who need medical care.', 'With telemedicine, patients can schedule appointments and consult with doctors at a convenient time without having to take time off work or arrange transportation.', 'This can be especially beneficial for people with busy schedules or mobility issues.', 'Telemedicine, or the use of electronic communication and information technologies to provide healthcare services remotely, has the potential to significantly impact the way we receive and deliver medical care.', 'In the next 20 years, telemedicine will likely become an increasingly important part of our healthcare system, providing numerous benefits and improving the livelihood of many people.', 'The benefits of telemedicine are numerous.', 'For patients, it provides convenient access to medical care without traveling long distances.', 'It also allows for faster diagnosis and treatment and improved continuity of care.', 'For healthcare providers, telemedicine can reduce the strain on already-overburdened healthcare systems and make providing care to patients in remote areas more accessible.', 'The rise of telemedicine will likely significantly impact how we receive medical care in the future.', 'By 2040, it is estimated that telemedicine will be a standard part of the healthcare landscape, with more and more doctors using it to diagnose and treat patients remotely.']\n",
            "Total Word Count: 534\n",
            "Unique Words: 149\n",
            "Most Common Words:\n",
            "telemedicine: 17\n",
            "patients: 14\n",
            "care: 11\n",
            "healthcare: 9\n",
            "medical: 8\n",
            "reduce: 6\n",
            "help: 5\n",
            "without: 5\n",
            "people: 5\n",
            "conditions: 4\n",
            "\n",
            "Topics Identified:\n",
            "(0, '0.059*\"telemedicine\" + 0.039*\"patients\" + 0.028*\"care\" + 0.025*\"medical\" + 0.021*\"healthcare\" + 0.018*\"reduce\" + 0.016*\"without\" + 0.016*\"people\" + 0.013*\"help\" + 0.013*\"conditions\"')\n",
            "(1, '0.036*\"telemedicine\" + 0.030*\"patients\" + 0.028*\"care\" + 0.024*\"healthcare\" + 0.016*\"people\" + 0.016*\"medical\" + 0.014*\"without\" + 0.014*\"reduce\" + 0.012*\"convenient\" + 0.011*\"costs\"')\n",
            "(2, '0.026*\"telemedicine\" + 0.024*\"healthcare\" + 0.023*\"care\" + 0.021*\"patients\" + 0.021*\"medical\" + 0.017*\"reduce\" + 0.012*\"people\" + 0.012*\"without\" + 0.011*\"help\" + 0.011*\"convenient\"')\n",
            "(3, '0.043*\"patients\" + 0.040*\"telemedicine\" + 0.033*\"care\" + 0.026*\"healthcare\" + 0.022*\"medical\" + 0.019*\"help\" + 0.017*\"reduce\" + 0.015*\"doctors\" + 0.015*\"receive\" + 0.014*\"without\"')\n",
            "(4, '0.013*\"patients\" + 0.013*\"telemedicine\" + 0.011*\"healthcare\" + 0.011*\"care\" + 0.010*\"medical\" + 0.009*\"reduce\" + 0.008*\"providing\" + 0.008*\"doctors\" + 0.008*\"without\" + 0.008*\"conditions\"')\n",
            "Sentiment: Positive\n"
          ]
        },
        {
          "output_type": "stream",
          "name": "stderr",
          "text": [
            "The attention mask and the pad token id were not set. As a consequence, you may observe unexpected behavior. Please pass your input's `attention_mask` to obtain reliable results.\n",
            "Setting `pad_token_id` to `eos_token_id`:50256 for open-end generation.\n"
          ]
        },
        {
          "output_type": "stream",
          "name": "stdout",
          "text": [
            "Text Summary: Better care for chronic conditions: Telemedicine can help patients with chronic conditions to manage their health more effectively, allowing them to receive regular check-ups and treatment without the need to travel long distances. This can improve the quality of life for these individuals and reduce the risk of complications from their conditions.  Increased flexibility for patients and healthcare providers: Telemedicine allows patients and providers to schedule consultations at times convenient for them, improving the overall flexibility of the healthcare system. This can help to reduce wait times and improve patient satisfaction.  Increased accessibility: Telemedicine makes healthcare more accessible to people living in rural and remote areas, who may not have easy access to medical facilities. With telemedicine, patients can consult with doctors and specialists from their homes using their phones, computers, or other devices. This means that more people will be able to get the medical care they need, regardless of where they live.  Reduced costs: One of the most significant benefits of telemedicine is that it can reduce healthcare costs. Patients can avoid the costs of travel, accommodation, and time off work associated with in-person visits to the doctor. Telemedicine can also help reduce the cost of medical procedures, as doctors can remotely monitor patients and provide care without needing hospitalization.  Improved health outcomes: By providing patients with access to medical care from the comfort of their own homes, telemedicine can help improve their health outcomes. For example, patients with chronic conditions can use telemedicine to manage their symptoms and reduce the risk of complications. Telemedicine can also help prevent the spread of infectious diseases, as patients can receive care without contacting other people.  Increased convenience: Telemedicine offers a more convenient option for patients who need medical care. With telemedicine, patients can schedule appointments and consult with doctors at a convenient time without having to take time off work or arrange transportation. This can be especially beneficial for people with busy schedules or mobility issues.  Telemedicine, or the use of electronic communication and information technologies to provide healthcare services remotely, has the potential to significantly impact the way we receive and deliver medical care. In the next 20 years, telemedicine will likely become an increasingly important part of our healthcare system, providing numerous benefits and improving the livelihood of many people.  The benefits of telemedicine are numerous. For patients, it provides convenient access to medical care without traveling long distances. It also allows for faster diagnosis and treatment and improved continuity of care. For healthcare providers, telemedicine can reduce the strain on already-overburdened healthcare systems and make providing care to patients in remote areas more accessible.  The rise of telemedicine will likely significantly impact how we receive medical care in the future. By 2040, it is estimated that telemedicine will be a standard part of the healthcare landscape, with more and more doctors using it to diagnose and treat patients remotely. In the next 20 years, telemedicine will likely become an increasingly important part of our healthcare system, providing numerous benefits and improving the livelihood of many people.\n",
            "\n",
            "Named Entities:\n",
            "One - CARDINAL\n",
            "Telemedicine - ORG\n",
            "the next 20 years - DATE\n",
            "2040 - DATE\n"
          ]
        },
        {
          "output_type": "display_data",
          "data": {
            "text/plain": [
              "<Figure size 1000x600 with 1 Axes>"
            ],
            "image/png": "[encoded data removed]"
          },
          "metadata": {}
        },
        {
          "output_type": "display_data",
          "data": {
            "text/plain": [
              "<Figure size 600x400 with 1 Axes>"
            ],
            "image/png": "[encoded data removed]"
          },
          "metadata": {}
        }
      ]
    },
    {
      "cell_type": "code",
      "source": [],
      "metadata": {
        "id": "SHtEH-NmeVdr"
      },
      "execution_count": null,
      "outputs": []
    },
    {
      "cell_type": "code",
      "source": [],
      "metadata": {
        "id": "CM52wSAkeVaT"
      },
      "execution_count": null,
      "outputs": []
    },
    {
      "cell_type": "code",
      "source": [],
      "metadata": {
        "id": "TQK6m3xceVWk"
      },
      "execution_count": null,
      "outputs": []
    },
    {
      "cell_type": "code",
      "source": [],
      "metadata": {
        "id": "PKYKcaOUeVS4"
      },
      "execution_count": null,
      "outputs": []
    }
  ]
}