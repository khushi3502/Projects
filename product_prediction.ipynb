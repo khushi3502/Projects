{
  "nbformat": 4,
  "nbformat_minor": 0,
  "metadata": {
    "colab": {
      "provenance": [],
      "authorship_tag": "ABX9TyOkZwwTHJlzZKJND3sZbHET",
      "include_colab_link": true
    },
    "kernelspec": {
      "name": "python3",
      "display_name": "Python 3"
    },
    "language_info": {
      "name": "python"
    }
  },
  "cells": [
    {
      "cell_type": "markdown",
      "metadata": {
        "id": "view-in-github",
        "colab_type": "text"
      },
      "source": [
        "<a href=\"https://colab.research.google.com/github/khushi3502/Projects/blob/main/product_prediction.ipynb\" target=\"_parent\"><img src=\"https://colab.research.google.com/assets/colab-badge.svg\" alt=\"Open In Colab\"/></a>"
      ]
    },
    {
      "cell_type": "code",
      "execution_count": null,
      "metadata": {
        "id": "hsnKD3fY3r09"
      },
      "outputs": [],
      "source": [
        "import pandas as pd\n",
        "from sklearn.ensemble import GradientBoostingRegressor\n",
        "from sklearn.model_selection import train_test_split\n",
        "from sklearn.metrics import mean_squared_error, r2_score\n",
        "import seaborn as sns\n",
        "import matplotlib.pyplot as plt\n",
        "%matplotlib inline\n",
        "\n",
        "\n"
      ]
    },
    {
      "cell_type": "code",
      "source": [
        "import pandas as pd\n",
        "\n",
        "# Load the Excel file into a pandas dataframe\n",
        "data = pd.read_excel('/content/data.xlsx')\n",
        "\n",
        "# Convert the dataframe to a CSV file\n",
        "data.to_csv('output_file.csv', index=False)\n"
      ],
      "metadata": {
        "id": "fuLRfFspAGWJ"
      },
      "execution_count": null,
      "outputs": []
    },
    {
      "cell_type": "code",
      "source": [],
      "metadata": {
        "id": "Xn1I8-IDA0lA"
      },
      "execution_count": null,
      "outputs": []
    },
    {
      "cell_type": "code",
      "source": [
        "# Load data\n",
        "data = pd.read_excel('/content/data.xlsx')"
      ],
      "metadata": {
        "id": "zsHJVh3D32Wu"
      },
      "execution_count": null,
      "outputs": []
    },
    {
      "cell_type": "code",
      "source": [
        "data.shape"
      ],
      "metadata": {
        "colab": {
          "base_uri": "https://localhost:8080/"
        },
        "id": "KHgBBMsx8Agc",
        "outputId": "5ae73b64-7309-4668-e493-2fc9d6213542"
      },
      "execution_count": null,
      "outputs": [
        {
          "output_type": "execute_result",
          "data": {
            "text/plain": [
              "(334, 10)"
            ]
          },
          "metadata": {},
          "execution_count": 27
        }
      ]
    },
    {
      "cell_type": "code",
      "source": [
        "data.fillna(5)"
      ],
      "metadata": {
        "colab": {
          "base_uri": "https://localhost:8080/",
          "height": 467
        },
        "id": "rbFGnJif8D_s",
        "outputId": "10c4e7b4-5d6a-4686-a77e-3cbf29310e77"
      },
      "execution_count": null,
      "outputs": [
        {
          "output_type": "execute_result",
          "data": {
            "text/plain": [
              "                       Unit      Price     ID    wt     OD  Surcharge  \\\n",
              "0      ID12,7_WT1,35_OD15,4   143.8255  12.70  1.35  15.40       0.08   \n",
              "1     ID15,88_WT1,3_OD18,48   166.1555  15.88  1.30  18.48       0.08   \n",
              "2    ID15,88_WT1,52_OD18,92   191.0230  15.88  1.52  18.92       0.08   \n",
              "3     ID25,4_WT1,77_OD28,94   298.1055  25.40  1.77  28.94       0.08   \n",
              "4     ID38,1_WT2,67_OD43,44   671.5240  38.10  2.67  43.44       0.08   \n",
              "..                      ...        ...    ...   ...    ...        ...   \n",
              "329   ID25,4_WT2,46_OD30,32   392.9304  25.40  2.46  30.32       0.08   \n",
              "330   ID25,4_WT2,53_OD30,46   405.3635  25.40  2.53  30.46       0.08   \n",
              "331   ID63,5_WT3,18_OD69,86  1179.2659  63.50  3.18  69.86       0.08   \n",
              "332    ID63,5_WT4,45_OD72,4  1680.6602  63.50  4.45  72.40       0.08   \n",
              "333   ID63,5_WT6,64_OD76,78  2589.6703  63.50  6.64  76.78       0.08   \n",
              "\n",
              "     dimension         kg  Energy  deliver  \n",
              "0         2.70   0.466197     0.0        1  \n",
              "1         2.60   0.549000     0.0        1  \n",
              "2         3.04   0.650004     0.0        1  \n",
              "3         3.54   1.183014     0.0        1  \n",
              "4         5.34   2.677005     0.0        1  \n",
              "..         ...        ...     ...      ...  \n",
              "329       4.92   1.690000     0.0        0  \n",
              "330       5.06   1.739988     0.0        0  \n",
              "331       6.36   5.210000     0.0        0  \n",
              "332       8.90   7.440009     0.0        0  \n",
              "333      13.28  11.449980     0.0        0  \n",
              "\n",
              "[334 rows x 10 columns]"
            ],
            "text/html": [
              "\n",
              "  <div id=\"df-fdcae13e-d699-4825-9a77-be1b6cfc8c7f\">\n",
              "    <div class=\"colab-df-container\">\n",
              "      <div>\n",
              "<style scoped>\n",
              "    .dataframe tbody tr th:only-of-type {\n",
              "        vertical-align: middle;\n",
              "    }\n",
              "\n",
              "    .dataframe tbody tr th {\n",
              "        vertical-align: top;\n",
              "    }\n",
              "\n",
              "    .dataframe thead th {\n",
              "        text-align: right;\n",
              "    }\n",
              "</style>\n",
              "<table border=\"1\" class=\"dataframe\">\n",
              "  <thead>\n",
              "    <tr style=\"text-align: right;\">\n",
              "      <th></th>\n",
              "      <th>Unit</th>\n",
              "      <th>Price</th>\n",
              "      <th>ID</th>\n",
              "      <th>wt</th>\n",
              "      <th>OD</th>\n",
              "      <th>Surcharge</th>\n",
              "      <th>dimension</th>\n",
              "      <th>kg</th>\n",
              "      <th>Energy</th>\n",
              "      <th>deliver</th>\n",
              "    </tr>\n",
              "  </thead>\n",
              "  <tbody>\n",
              "    <tr>\n",
              "      <th>0</th>\n",
              "      <td>ID12,7_WT1,35_OD15,4</td>\n",
              "      <td>143.8255</td>\n",
              "      <td>12.70</td>\n",
              "      <td>1.35</td>\n",
              "      <td>15.40</td>\n",
              "      <td>0.08</td>\n",
              "      <td>2.70</td>\n",
              "      <td>0.466197</td>\n",
              "      <td>0.0</td>\n",
              "      <td>1</td>\n",
              "    </tr>\n",
              "    <tr>\n",
              "      <th>1</th>\n",
              "      <td>ID15,88_WT1,3_OD18,48</td>\n",
              "      <td>166.1555</td>\n",
              "      <td>15.88</td>\n",
              "      <td>1.30</td>\n",
              "      <td>18.48</td>\n",
              "      <td>0.08</td>\n",
              "      <td>2.60</td>\n",
              "      <td>0.549000</td>\n",
              "      <td>0.0</td>\n",
              "      <td>1</td>\n",
              "    </tr>\n",
              "    <tr>\n",
              "      <th>2</th>\n",
              "      <td>ID15,88_WT1,52_OD18,92</td>\n",
              "      <td>191.0230</td>\n",
              "      <td>15.88</td>\n",
              "      <td>1.52</td>\n",
              "      <td>18.92</td>\n",
              "      <td>0.08</td>\n",
              "      <td>3.04</td>\n",
              "      <td>0.650004</td>\n",
              "      <td>0.0</td>\n",
              "      <td>1</td>\n",
              "    </tr>\n",
              "    <tr>\n",
              "      <th>3</th>\n",
              "      <td>ID25,4_WT1,77_OD28,94</td>\n",
              "      <td>298.1055</td>\n",
              "      <td>25.40</td>\n",
              "      <td>1.77</td>\n",
              "      <td>28.94</td>\n",
              "      <td>0.08</td>\n",
              "      <td>3.54</td>\n",
              "      <td>1.183014</td>\n",
              "      <td>0.0</td>\n",
              "      <td>1</td>\n",
              "    </tr>\n",
              "    <tr>\n",
              "      <th>4</th>\n",
              "      <td>ID38,1_WT2,67_OD43,44</td>\n",
              "      <td>671.5240</td>\n",
              "      <td>38.10</td>\n",
              "      <td>2.67</td>\n",
              "      <td>43.44</td>\n",
              "      <td>0.08</td>\n",
              "      <td>5.34</td>\n",
              "      <td>2.677005</td>\n",
              "      <td>0.0</td>\n",
              "      <td>1</td>\n",
              "    </tr>\n",
              "    <tr>\n",
              "      <th>...</th>\n",
              "      <td>...</td>\n",
              "      <td>...</td>\n",
              "      <td>...</td>\n",
              "      <td>...</td>\n",
              "      <td>...</td>\n",
              "      <td>...</td>\n",
              "      <td>...</td>\n",
              "      <td>...</td>\n",
              "      <td>...</td>\n",
              "      <td>...</td>\n",
              "    </tr>\n",
              "    <tr>\n",
              "      <th>329</th>\n",
              "      <td>ID25,4_WT2,46_OD30,32</td>\n",
              "      <td>392.9304</td>\n",
              "      <td>25.40</td>\n",
              "      <td>2.46</td>\n",
              "      <td>30.32</td>\n",
              "      <td>0.08</td>\n",
              "      <td>4.92</td>\n",
              "      <td>1.690000</td>\n",
              "      <td>0.0</td>\n",
              "      <td>0</td>\n",
              "    </tr>\n",
              "    <tr>\n",
              "      <th>330</th>\n",
              "      <td>ID25,4_WT2,53_OD30,46</td>\n",
              "      <td>405.3635</td>\n",
              "      <td>25.40</td>\n",
              "      <td>2.53</td>\n",
              "      <td>30.46</td>\n",
              "      <td>0.08</td>\n",
              "      <td>5.06</td>\n",
              "      <td>1.739988</td>\n",
              "      <td>0.0</td>\n",
              "      <td>0</td>\n",
              "    </tr>\n",
              "    <tr>\n",
              "      <th>331</th>\n",
              "      <td>ID63,5_WT3,18_OD69,86</td>\n",
              "      <td>1179.2659</td>\n",
              "      <td>63.50</td>\n",
              "      <td>3.18</td>\n",
              "      <td>69.86</td>\n",
              "      <td>0.08</td>\n",
              "      <td>6.36</td>\n",
              "      <td>5.210000</td>\n",
              "      <td>0.0</td>\n",
              "      <td>0</td>\n",
              "    </tr>\n",
              "    <tr>\n",
              "      <th>332</th>\n",
              "      <td>ID63,5_WT4,45_OD72,4</td>\n",
              "      <td>1680.6602</td>\n",
              "      <td>63.50</td>\n",
              "      <td>4.45</td>\n",
              "      <td>72.40</td>\n",
              "      <td>0.08</td>\n",
              "      <td>8.90</td>\n",
              "      <td>7.440009</td>\n",
              "      <td>0.0</td>\n",
              "      <td>0</td>\n",
              "    </tr>\n",
              "    <tr>\n",
              "      <th>333</th>\n",
              "      <td>ID63,5_WT6,64_OD76,78</td>\n",
              "      <td>2589.6703</td>\n",
              "      <td>63.50</td>\n",
              "      <td>6.64</td>\n",
              "      <td>76.78</td>\n",
              "      <td>0.08</td>\n",
              "      <td>13.28</td>\n",
              "      <td>11.449980</td>\n",
              "      <td>0.0</td>\n",
              "      <td>0</td>\n",
              "    </tr>\n",
              "  </tbody>\n",
              "</table>\n",
              "<p>334 rows × 10 columns</p>\n",
              "</div>\n",
              "      <button class=\"colab-df-convert\" onclick=\"convertToInteractive('df-fdcae13e-d699-4825-9a77-be1b6cfc8c7f')\"\n",
              "              title=\"Convert this dataframe to an interactive table.\"\n",
              "              style=\"display:none;\">\n",
              "        \n",
              "  <svg xmlns=\"http://www.w3.org/2000/svg\" height=\"24px\"viewBox=\"0 0 24 24\"\n",
              "       width=\"24px\">\n",
              "    <path d=\"M0 0h24v24H0V0z\" fill=\"none\"/>\n",
              "    <path d=\"M18.56 5.44l.94 2.06.94-2.06 2.06-.94-2.06-.94-.94-2.06-.94 2.06-2.06.94zm-11 1L8.5 8.5l.94-2.06 2.06-.94-2.06-.94L8.5 2.5l-.94 2.06-2.06.94zm10 10l.94 2.06.94-2.06 2.06-.94-2.06-.94-.94-2.06-.94 2.06-2.06.94z\"/><path d=\"M17.41 7.96l-1.37-1.37c-.4-.4-.92-.59-1.43-.59-.52 0-1.04.2-1.43.59L10.3 9.45l-7.72 7.72c-.78.78-.78 2.05 0 2.83L4 21.41c.39.39.9.59 1.41.59.51 0 1.02-.2 1.41-.59l7.78-7.78 2.81-2.81c.8-.78.8-2.07 0-2.86zM5.41 20L4 18.59l7.72-7.72 1.47 1.35L5.41 20z\"/>\n",
              "  </svg>\n",
              "      </button>\n",
              "      \n",
              "  <style>\n",
              "    .colab-df-container {\n",
              "      display:flex;\n",
              "      flex-wrap:wrap;\n",
              "      gap: 12px;\n",
              "    }\n",
              "\n",
              "    .colab-df-convert {\n",
              "      background-color: #E8F0FE;\n",
              "      border: none;\n",
              "      border-radius: 50%;\n",
              "      cursor: pointer;\n",
              "      display: none;\n",
              "      fill: #1967D2;\n",
              "      height: 32px;\n",
              "      padding: 0 0 0 0;\n",
              "      width: 32px;\n",
              "    }\n",
              "\n",
              "    .colab-df-convert:hover {\n",
              "      background-color: #E2EBFA;\n",
              "      box-shadow: 0px 1px 2px rgba(60, 64, 67, 0.3), 0px 1px 3px 1px rgba(60, 64, 67, 0.15);\n",
              "      fill: #174EA6;\n",
              "    }\n",
              "\n",
              "    [theme=dark] .colab-df-convert {\n",
              "      background-color: #3B4455;\n",
              "      fill: #D2E3FC;\n",
              "    }\n",
              "\n",
              "    [theme=dark] .colab-df-convert:hover {\n",
              "      background-color: #434B5C;\n",
              "      box-shadow: 0px 1px 3px 1px rgba(0, 0, 0, 0.15);\n",
              "      filter: drop-shadow(0px 1px 2px rgba(0, 0, 0, 0.3));\n",
              "      fill: #FFFFFF;\n",
              "    }\n",
              "  </style>\n",
              "\n",
              "      <script>\n",
              "        const buttonEl =\n",
              "          document.querySelector('#df-fdcae13e-d699-4825-9a77-be1b6cfc8c7f button.colab-df-convert');\n",
              "        buttonEl.style.display =\n",
              "          google.colab.kernel.accessAllowed ? 'block' : 'none';\n",
              "\n",
              "        async function convertToInteractive(key) {\n",
              "          const element = document.querySelector('#df-fdcae13e-d699-4825-9a77-be1b6cfc8c7f');\n",
              "          const dataTable =\n",
              "            await google.colab.kernel.invokeFunction('convertToInteractive',\n",
              "                                                     [key], {});\n",
              "          if (!dataTable) return;\n",
              "\n",
              "          const docLinkHtml = 'Like what you see? Visit the ' +\n",
              "            '<a target=\"_blank\" href=https://colab.research.google.com/notebooks/data_table.ipynb>data table notebook</a>'\n",
              "            + ' to learn more about interactive tables.';\n",
              "          element.innerHTML = '';\n",
              "          dataTable['output_type'] = 'display_data';\n",
              "          await google.colab.output.renderOutput(dataTable, element);\n",
              "          const docLink = document.createElement('div');\n",
              "          docLink.innerHTML = docLinkHtml;\n",
              "          element.appendChild(docLink);\n",
              "        }\n",
              "      </script>\n",
              "    </div>\n",
              "  </div>\n",
              "  "
            ]
          },
          "metadata": {},
          "execution_count": 28
        }
      ]
    },
    {
      "cell_type": "code",
      "source": [
        "data.fillna(method ='pad')"
      ],
      "metadata": {
        "colab": {
          "base_uri": "https://localhost:8080/",
          "height": 467
        },
        "id": "wHe9Tqtl8ljL",
        "outputId": "bd8d637c-5d40-43cc-9c37-bcdbd4b0882e"
      },
      "execution_count": null,
      "outputs": [
        {
          "output_type": "execute_result",
          "data": {
            "text/plain": [
              "                       Unit      Price     ID    wt     OD  Surcharge  \\\n",
              "0      ID12,7_WT1,35_OD15,4   143.8255  12.70  1.35  15.40       0.08   \n",
              "1     ID15,88_WT1,3_OD18,48   166.1555  15.88  1.30  18.48       0.08   \n",
              "2    ID15,88_WT1,52_OD18,92   191.0230  15.88  1.52  18.92       0.08   \n",
              "3     ID25,4_WT1,77_OD28,94   298.1055  25.40  1.77  28.94       0.08   \n",
              "4     ID38,1_WT2,67_OD43,44   671.5240  38.10  2.67  43.44       0.08   \n",
              "..                      ...        ...    ...   ...    ...        ...   \n",
              "329   ID25,4_WT2,46_OD30,32   392.9304  25.40  2.46  30.32       0.08   \n",
              "330   ID25,4_WT2,53_OD30,46   405.3635  25.40  2.53  30.46       0.08   \n",
              "331   ID63,5_WT3,18_OD69,86  1179.2659  63.50  3.18  69.86       0.08   \n",
              "332    ID63,5_WT4,45_OD72,4  1680.6602  63.50  4.45  72.40       0.08   \n",
              "333   ID63,5_WT6,64_OD76,78  2589.6703  63.50  6.64  76.78       0.08   \n",
              "\n",
              "     dimension         kg  Energy  deliver  \n",
              "0         2.70   0.466197     0.0        1  \n",
              "1         2.60   0.549000     0.0        1  \n",
              "2         3.04   0.650004     0.0        1  \n",
              "3         3.54   1.183014     0.0        1  \n",
              "4         5.34   2.677005     0.0        1  \n",
              "..         ...        ...     ...      ...  \n",
              "329       4.92   1.690000     0.0        0  \n",
              "330       5.06   1.739988     0.0        0  \n",
              "331       6.36   5.210000     0.0        0  \n",
              "332       8.90   7.440009     0.0        0  \n",
              "333      13.28  11.449980     0.0        0  \n",
              "\n",
              "[334 rows x 10 columns]"
            ],
            "text/html": [
              "\n",
              "  <div id=\"df-2869b6ad-1fd3-4d6c-8097-4bed59377d0c\">\n",
              "    <div class=\"colab-df-container\">\n",
              "      <div>\n",
              "<style scoped>\n",
              "    .dataframe tbody tr th:only-of-type {\n",
              "        vertical-align: middle;\n",
              "    }\n",
              "\n",
              "    .dataframe tbody tr th {\n",
              "        vertical-align: top;\n",
              "    }\n",
              "\n",
              "    .dataframe thead th {\n",
              "        text-align: right;\n",
              "    }\n",
              "</style>\n",
              "<table border=\"1\" class=\"dataframe\">\n",
              "  <thead>\n",
              "    <tr style=\"text-align: right;\">\n",
              "      <th></th>\n",
              "      <th>Unit</th>\n",
              "      <th>Price</th>\n",
              "      <th>ID</th>\n",
              "      <th>wt</th>\n",
              "      <th>OD</th>\n",
              "      <th>Surcharge</th>\n",
              "      <th>dimension</th>\n",
              "      <th>kg</th>\n",
              "      <th>Energy</th>\n",
              "      <th>deliver</th>\n",
              "    </tr>\n",
              "  </thead>\n",
              "  <tbody>\n",
              "    <tr>\n",
              "      <th>0</th>\n",
              "      <td>ID12,7_WT1,35_OD15,4</td>\n",
              "      <td>143.8255</td>\n",
              "      <td>12.70</td>\n",
              "      <td>1.35</td>\n",
              "      <td>15.40</td>\n",
              "      <td>0.08</td>\n",
              "      <td>2.70</td>\n",
              "      <td>0.466197</td>\n",
              "      <td>0.0</td>\n",
              "      <td>1</td>\n",
              "    </tr>\n",
              "    <tr>\n",
              "      <th>1</th>\n",
              "      <td>ID15,88_WT1,3_OD18,48</td>\n",
              "      <td>166.1555</td>\n",
              "      <td>15.88</td>\n",
              "      <td>1.30</td>\n",
              "      <td>18.48</td>\n",
              "      <td>0.08</td>\n",
              "      <td>2.60</td>\n",
              "      <td>0.549000</td>\n",
              "      <td>0.0</td>\n",
              "      <td>1</td>\n",
              "    </tr>\n",
              "    <tr>\n",
              "      <th>2</th>\n",
              "      <td>ID15,88_WT1,52_OD18,92</td>\n",
              "      <td>191.0230</td>\n",
              "      <td>15.88</td>\n",
              "      <td>1.52</td>\n",
              "      <td>18.92</td>\n",
              "      <td>0.08</td>\n",
              "      <td>3.04</td>\n",
              "      <td>0.650004</td>\n",
              "      <td>0.0</td>\n",
              "      <td>1</td>\n",
              "    </tr>\n",
              "    <tr>\n",
              "      <th>3</th>\n",
              "      <td>ID25,4_WT1,77_OD28,94</td>\n",
              "      <td>298.1055</td>\n",
              "      <td>25.40</td>\n",
              "      <td>1.77</td>\n",
              "      <td>28.94</td>\n",
              "      <td>0.08</td>\n",
              "      <td>3.54</td>\n",
              "      <td>1.183014</td>\n",
              "      <td>0.0</td>\n",
              "      <td>1</td>\n",
              "    </tr>\n",
              "    <tr>\n",
              "      <th>4</th>\n",
              "      <td>ID38,1_WT2,67_OD43,44</td>\n",
              "      <td>671.5240</td>\n",
              "      <td>38.10</td>\n",
              "      <td>2.67</td>\n",
              "      <td>43.44</td>\n",
              "      <td>0.08</td>\n",
              "      <td>5.34</td>\n",
              "      <td>2.677005</td>\n",
              "      <td>0.0</td>\n",
              "      <td>1</td>\n",
              "    </tr>\n",
              "    <tr>\n",
              "      <th>...</th>\n",
              "      <td>...</td>\n",
              "      <td>...</td>\n",
              "      <td>...</td>\n",
              "      <td>...</td>\n",
              "      <td>...</td>\n",
              "      <td>...</td>\n",
              "      <td>...</td>\n",
              "      <td>...</td>\n",
              "      <td>...</td>\n",
              "      <td>...</td>\n",
              "    </tr>\n",
              "    <tr>\n",
              "      <th>329</th>\n",
              "      <td>ID25,4_WT2,46_OD30,32</td>\n",
              "      <td>392.9304</td>\n",
              "      <td>25.40</td>\n",
              "      <td>2.46</td>\n",
              "      <td>30.32</td>\n",
              "      <td>0.08</td>\n",
              "      <td>4.92</td>\n",
              "      <td>1.690000</td>\n",
              "      <td>0.0</td>\n",
              "      <td>0</td>\n",
              "    </tr>\n",
              "    <tr>\n",
              "      <th>330</th>\n",
              "      <td>ID25,4_WT2,53_OD30,46</td>\n",
              "      <td>405.3635</td>\n",
              "      <td>25.40</td>\n",
              "      <td>2.53</td>\n",
              "      <td>30.46</td>\n",
              "      <td>0.08</td>\n",
              "      <td>5.06</td>\n",
              "      <td>1.739988</td>\n",
              "      <td>0.0</td>\n",
              "      <td>0</td>\n",
              "    </tr>\n",
              "    <tr>\n",
              "      <th>331</th>\n",
              "      <td>ID63,5_WT3,18_OD69,86</td>\n",
              "      <td>1179.2659</td>\n",
              "      <td>63.50</td>\n",
              "      <td>3.18</td>\n",
              "      <td>69.86</td>\n",
              "      <td>0.08</td>\n",
              "      <td>6.36</td>\n",
              "      <td>5.210000</td>\n",
              "      <td>0.0</td>\n",
              "      <td>0</td>\n",
              "    </tr>\n",
              "    <tr>\n",
              "      <th>332</th>\n",
              "      <td>ID63,5_WT4,45_OD72,4</td>\n",
              "      <td>1680.6602</td>\n",
              "      <td>63.50</td>\n",
              "      <td>4.45</td>\n",
              "      <td>72.40</td>\n",
              "      <td>0.08</td>\n",
              "      <td>8.90</td>\n",
              "      <td>7.440009</td>\n",
              "      <td>0.0</td>\n",
              "      <td>0</td>\n",
              "    </tr>\n",
              "    <tr>\n",
              "      <th>333</th>\n",
              "      <td>ID63,5_WT6,64_OD76,78</td>\n",
              "      <td>2589.6703</td>\n",
              "      <td>63.50</td>\n",
              "      <td>6.64</td>\n",
              "      <td>76.78</td>\n",
              "      <td>0.08</td>\n",
              "      <td>13.28</td>\n",
              "      <td>11.449980</td>\n",
              "      <td>0.0</td>\n",
              "      <td>0</td>\n",
              "    </tr>\n",
              "  </tbody>\n",
              "</table>\n",
              "<p>334 rows × 10 columns</p>\n",
              "</div>\n",
              "      <button class=\"colab-df-convert\" onclick=\"convertToInteractive('df-2869b6ad-1fd3-4d6c-8097-4bed59377d0c')\"\n",
              "              title=\"Convert this dataframe to an interactive table.\"\n",
              "              style=\"display:none;\">\n",
              "        \n",
              "  <svg xmlns=\"http://www.w3.org/2000/svg\" height=\"24px\"viewBox=\"0 0 24 24\"\n",
              "       width=\"24px\">\n",
              "    <path d=\"M0 0h24v24H0V0z\" fill=\"none\"/>\n",
              "    <path d=\"M18.56 5.44l.94 2.06.94-2.06 2.06-.94-2.06-.94-.94-2.06-.94 2.06-2.06.94zm-11 1L8.5 8.5l.94-2.06 2.06-.94-2.06-.94L8.5 2.5l-.94 2.06-2.06.94zm10 10l.94 2.06.94-2.06 2.06-.94-2.06-.94-.94-2.06-.94 2.06-2.06.94z\"/><path d=\"M17.41 7.96l-1.37-1.37c-.4-.4-.92-.59-1.43-.59-.52 0-1.04.2-1.43.59L10.3 9.45l-7.72 7.72c-.78.78-.78 2.05 0 2.83L4 21.41c.39.39.9.59 1.41.59.51 0 1.02-.2 1.41-.59l7.78-7.78 2.81-2.81c.8-.78.8-2.07 0-2.86zM5.41 20L4 18.59l7.72-7.72 1.47 1.35L5.41 20z\"/>\n",
              "  </svg>\n",
              "      </button>\n",
              "      \n",
              "  <style>\n",
              "    .colab-df-container {\n",
              "      display:flex;\n",
              "      flex-wrap:wrap;\n",
              "      gap: 12px;\n",
              "    }\n",
              "\n",
              "    .colab-df-convert {\n",
              "      background-color: #E8F0FE;\n",
              "      border: none;\n",
              "      border-radius: 50%;\n",
              "      cursor: pointer;\n",
              "      display: none;\n",
              "      fill: #1967D2;\n",
              "      height: 32px;\n",
              "      padding: 0 0 0 0;\n",
              "      width: 32px;\n",
              "    }\n",
              "\n",
              "    .colab-df-convert:hover {\n",
              "      background-color: #E2EBFA;\n",
              "      box-shadow: 0px 1px 2px rgba(60, 64, 67, 0.3), 0px 1px 3px 1px rgba(60, 64, 67, 0.15);\n",
              "      fill: #174EA6;\n",
              "    }\n",
              "\n",
              "    [theme=dark] .colab-df-convert {\n",
              "      background-color: #3B4455;\n",
              "      fill: #D2E3FC;\n",
              "    }\n",
              "\n",
              "    [theme=dark] .colab-df-convert:hover {\n",
              "      background-color: #434B5C;\n",
              "      box-shadow: 0px 1px 3px 1px rgba(0, 0, 0, 0.15);\n",
              "      filter: drop-shadow(0px 1px 2px rgba(0, 0, 0, 0.3));\n",
              "      fill: #FFFFFF;\n",
              "    }\n",
              "  </style>\n",
              "\n",
              "      <script>\n",
              "        const buttonEl =\n",
              "          document.querySelector('#df-2869b6ad-1fd3-4d6c-8097-4bed59377d0c button.colab-df-convert');\n",
              "        buttonEl.style.display =\n",
              "          google.colab.kernel.accessAllowed ? 'block' : 'none';\n",
              "\n",
              "        async function convertToInteractive(key) {\n",
              "          const element = document.querySelector('#df-2869b6ad-1fd3-4d6c-8097-4bed59377d0c');\n",
              "          const dataTable =\n",
              "            await google.colab.kernel.invokeFunction('convertToInteractive',\n",
              "                                                     [key], {});\n",
              "          if (!dataTable) return;\n",
              "\n",
              "          const docLinkHtml = 'Like what you see? Visit the ' +\n",
              "            '<a target=\"_blank\" href=https://colab.research.google.com/notebooks/data_table.ipynb>data table notebook</a>'\n",
              "            + ' to learn more about interactive tables.';\n",
              "          element.innerHTML = '';\n",
              "          dataTable['output_type'] = 'display_data';\n",
              "          await google.colab.output.renderOutput(dataTable, element);\n",
              "          const docLink = document.createElement('div');\n",
              "          docLink.innerHTML = docLinkHtml;\n",
              "          element.appendChild(docLink);\n",
              "        }\n",
              "      </script>\n",
              "    </div>\n",
              "  </div>\n",
              "  "
            ]
          },
          "metadata": {},
          "execution_count": 19
        }
      ]
    },
    {
      "cell_type": "code",
      "source": [
        "data.isnull()"
      ],
      "metadata": {
        "colab": {
          "base_uri": "https://localhost:8080/",
          "height": 423
        },
        "id": "9MOGYxb277od",
        "outputId": "6e4ffe06-9f71-479e-a6ce-a8c5737f8fdb"
      },
      "execution_count": null,
      "outputs": [
        {
          "output_type": "execute_result",
          "data": {
            "text/plain": [
              "      Unit  Price     ID     wt     OD  Surcharge  dimension     kg  Energy  \\\n",
              "0    False  False  False  False  False      False      False  False   False   \n",
              "1    False  False  False  False  False      False      False  False   False   \n",
              "2    False  False  False  False  False      False      False  False   False   \n",
              "3    False  False  False  False  False      False      False  False   False   \n",
              "4    False  False  False  False  False      False      False  False   False   \n",
              "..     ...    ...    ...    ...    ...        ...        ...    ...     ...   \n",
              "329  False  False  False  False  False      False      False  False   False   \n",
              "330  False  False  False  False  False      False      False  False   False   \n",
              "331  False  False  False  False  False      False      False  False   False   \n",
              "332  False  False  False  False  False      False      False  False   False   \n",
              "333  False  False  False  False  False      False      False  False   False   \n",
              "\n",
              "     deliver  \n",
              "0      False  \n",
              "1      False  \n",
              "2      False  \n",
              "3      False  \n",
              "4      False  \n",
              "..       ...  \n",
              "329    False  \n",
              "330    False  \n",
              "331    False  \n",
              "332    False  \n",
              "333    False  \n",
              "\n",
              "[334 rows x 10 columns]"
            ],
            "text/html": [
              "\n",
              "  <div id=\"df-b253b19c-a9c9-4ee4-9ce6-68404f5c7412\">\n",
              "    <div class=\"colab-df-container\">\n",
              "      <div>\n",
              "<style scoped>\n",
              "    .dataframe tbody tr th:only-of-type {\n",
              "        vertical-align: middle;\n",
              "    }\n",
              "\n",
              "    .dataframe tbody tr th {\n",
              "        vertical-align: top;\n",
              "    }\n",
              "\n",
              "    .dataframe thead th {\n",
              "        text-align: right;\n",
              "    }\n",
              "</style>\n",
              "<table border=\"1\" class=\"dataframe\">\n",
              "  <thead>\n",
              "    <tr style=\"text-align: right;\">\n",
              "      <th></th>\n",
              "      <th>Unit</th>\n",
              "      <th>Price</th>\n",
              "      <th>ID</th>\n",
              "      <th>wt</th>\n",
              "      <th>OD</th>\n",
              "      <th>Surcharge</th>\n",
              "      <th>dimension</th>\n",
              "      <th>kg</th>\n",
              "      <th>Energy</th>\n",
              "      <th>deliver</th>\n",
              "    </tr>\n",
              "  </thead>\n",
              "  <tbody>\n",
              "    <tr>\n",
              "      <th>0</th>\n",
              "      <td>False</td>\n",
              "      <td>False</td>\n",
              "      <td>False</td>\n",
              "      <td>False</td>\n",
              "      <td>False</td>\n",
              "      <td>False</td>\n",
              "      <td>False</td>\n",
              "      <td>False</td>\n",
              "      <td>False</td>\n",
              "      <td>False</td>\n",
              "    </tr>\n",
              "    <tr>\n",
              "      <th>1</th>\n",
              "      <td>False</td>\n",
              "      <td>False</td>\n",
              "      <td>False</td>\n",
              "      <td>False</td>\n",
              "      <td>False</td>\n",
              "      <td>False</td>\n",
              "      <td>False</td>\n",
              "      <td>False</td>\n",
              "      <td>False</td>\n",
              "      <td>False</td>\n",
              "    </tr>\n",
              "    <tr>\n",
              "      <th>2</th>\n",
              "      <td>False</td>\n",
              "      <td>False</td>\n",
              "      <td>False</td>\n",
              "      <td>False</td>\n",
              "      <td>False</td>\n",
              "      <td>False</td>\n",
              "      <td>False</td>\n",
              "      <td>False</td>\n",
              "      <td>False</td>\n",
              "      <td>False</td>\n",
              "    </tr>\n",
              "    <tr>\n",
              "      <th>3</th>\n",
              "      <td>False</td>\n",
              "      <td>False</td>\n",
              "      <td>False</td>\n",
              "      <td>False</td>\n",
              "      <td>False</td>\n",
              "      <td>False</td>\n",
              "      <td>False</td>\n",
              "      <td>False</td>\n",
              "      <td>False</td>\n",
              "      <td>False</td>\n",
              "    </tr>\n",
              "    <tr>\n",
              "      <th>4</th>\n",
              "      <td>False</td>\n",
              "      <td>False</td>\n",
              "      <td>False</td>\n",
              "      <td>False</td>\n",
              "      <td>False</td>\n",
              "      <td>False</td>\n",
              "      <td>False</td>\n",
              "      <td>False</td>\n",
              "      <td>False</td>\n",
              "      <td>False</td>\n",
              "    </tr>\n",
              "    <tr>\n",
              "      <th>...</th>\n",
              "      <td>...</td>\n",
              "      <td>...</td>\n",
              "      <td>...</td>\n",
              "      <td>...</td>\n",
              "      <td>...</td>\n",
              "      <td>...</td>\n",
              "      <td>...</td>\n",
              "      <td>...</td>\n",
              "      <td>...</td>\n",
              "      <td>...</td>\n",
              "    </tr>\n",
              "    <tr>\n",
              "      <th>329</th>\n",
              "      <td>False</td>\n",
              "      <td>False</td>\n",
              "      <td>False</td>\n",
              "      <td>False</td>\n",
              "      <td>False</td>\n",
              "      <td>False</td>\n",
              "      <td>False</td>\n",
              "      <td>False</td>\n",
              "      <td>False</td>\n",
              "      <td>False</td>\n",
              "    </tr>\n",
              "    <tr>\n",
              "      <th>330</th>\n",
              "      <td>False</td>\n",
              "      <td>False</td>\n",
              "      <td>False</td>\n",
              "      <td>False</td>\n",
              "      <td>False</td>\n",
              "      <td>False</td>\n",
              "      <td>False</td>\n",
              "      <td>False</td>\n",
              "      <td>False</td>\n",
              "      <td>False</td>\n",
              "    </tr>\n",
              "    <tr>\n",
              "      <th>331</th>\n",
              "      <td>False</td>\n",
              "      <td>False</td>\n",
              "      <td>False</td>\n",
              "      <td>False</td>\n",
              "      <td>False</td>\n",
              "      <td>False</td>\n",
              "      <td>False</td>\n",
              "      <td>False</td>\n",
              "      <td>False</td>\n",
              "      <td>False</td>\n",
              "    </tr>\n",
              "    <tr>\n",
              "      <th>332</th>\n",
              "      <td>False</td>\n",
              "      <td>False</td>\n",
              "      <td>False</td>\n",
              "      <td>False</td>\n",
              "      <td>False</td>\n",
              "      <td>False</td>\n",
              "      <td>False</td>\n",
              "      <td>False</td>\n",
              "      <td>False</td>\n",
              "      <td>False</td>\n",
              "    </tr>\n",
              "    <tr>\n",
              "      <th>333</th>\n",
              "      <td>False</td>\n",
              "      <td>False</td>\n",
              "      <td>False</td>\n",
              "      <td>False</td>\n",
              "      <td>False</td>\n",
              "      <td>False</td>\n",
              "      <td>False</td>\n",
              "      <td>False</td>\n",
              "      <td>False</td>\n",
              "      <td>False</td>\n",
              "    </tr>\n",
              "  </tbody>\n",
              "</table>\n",
              "<p>334 rows × 10 columns</p>\n",
              "</div>\n",
              "      <button class=\"colab-df-convert\" onclick=\"convertToInteractive('df-b253b19c-a9c9-4ee4-9ce6-68404f5c7412')\"\n",
              "              title=\"Convert this dataframe to an interactive table.\"\n",
              "              style=\"display:none;\">\n",
              "        \n",
              "  <svg xmlns=\"http://www.w3.org/2000/svg\" height=\"24px\"viewBox=\"0 0 24 24\"\n",
              "       width=\"24px\">\n",
              "    <path d=\"M0 0h24v24H0V0z\" fill=\"none\"/>\n",
              "    <path d=\"M18.56 5.44l.94 2.06.94-2.06 2.06-.94-2.06-.94-.94-2.06-.94 2.06-2.06.94zm-11 1L8.5 8.5l.94-2.06 2.06-.94-2.06-.94L8.5 2.5l-.94 2.06-2.06.94zm10 10l.94 2.06.94-2.06 2.06-.94-2.06-.94-.94-2.06-.94 2.06-2.06.94z\"/><path d=\"M17.41 7.96l-1.37-1.37c-.4-.4-.92-.59-1.43-.59-.52 0-1.04.2-1.43.59L10.3 9.45l-7.72 7.72c-.78.78-.78 2.05 0 2.83L4 21.41c.39.39.9.59 1.41.59.51 0 1.02-.2 1.41-.59l7.78-7.78 2.81-2.81c.8-.78.8-2.07 0-2.86zM5.41 20L4 18.59l7.72-7.72 1.47 1.35L5.41 20z\"/>\n",
              "  </svg>\n",
              "      </button>\n",
              "      \n",
              "  <style>\n",
              "    .colab-df-container {\n",
              "      display:flex;\n",
              "      flex-wrap:wrap;\n",
              "      gap: 12px;\n",
              "    }\n",
              "\n",
              "    .colab-df-convert {\n",
              "      background-color: #E8F0FE;\n",
              "      border: none;\n",
              "      border-radius: 50%;\n",
              "      cursor: pointer;\n",
              "      display: none;\n",
              "      fill: #1967D2;\n",
              "      height: 32px;\n",
              "      padding: 0 0 0 0;\n",
              "      width: 32px;\n",
              "    }\n",
              "\n",
              "    .colab-df-convert:hover {\n",
              "      background-color: #E2EBFA;\n",
              "      box-shadow: 0px 1px 2px rgba(60, 64, 67, 0.3), 0px 1px 3px 1px rgba(60, 64, 67, 0.15);\n",
              "      fill: #174EA6;\n",
              "    }\n",
              "\n",
              "    [theme=dark] .colab-df-convert {\n",
              "      background-color: #3B4455;\n",
              "      fill: #D2E3FC;\n",
              "    }\n",
              "\n",
              "    [theme=dark] .colab-df-convert:hover {\n",
              "      background-color: #434B5C;\n",
              "      box-shadow: 0px 1px 3px 1px rgba(0, 0, 0, 0.15);\n",
              "      filter: drop-shadow(0px 1px 2px rgba(0, 0, 0, 0.3));\n",
              "      fill: #FFFFFF;\n",
              "    }\n",
              "  </style>\n",
              "\n",
              "      <script>\n",
              "        const buttonEl =\n",
              "          document.querySelector('#df-b253b19c-a9c9-4ee4-9ce6-68404f5c7412 button.colab-df-convert');\n",
              "        buttonEl.style.display =\n",
              "          google.colab.kernel.accessAllowed ? 'block' : 'none';\n",
              "\n",
              "        async function convertToInteractive(key) {\n",
              "          const element = document.querySelector('#df-b253b19c-a9c9-4ee4-9ce6-68404f5c7412');\n",
              "          const dataTable =\n",
              "            await google.colab.kernel.invokeFunction('convertToInteractive',\n",
              "                                                     [key], {});\n",
              "          if (!dataTable) return;\n",
              "\n",
              "          const docLinkHtml = 'Like what you see? Visit the ' +\n",
              "            '<a target=\"_blank\" href=https://colab.research.google.com/notebooks/data_table.ipynb>data table notebook</a>'\n",
              "            + ' to learn more about interactive tables.';\n",
              "          element.innerHTML = '';\n",
              "          dataTable['output_type'] = 'display_data';\n",
              "          await google.colab.output.renderOutput(dataTable, element);\n",
              "          const docLink = document.createElement('div');\n",
              "          docLink.innerHTML = docLinkHtml;\n",
              "          element.appendChild(docLink);\n",
              "        }\n",
              "      </script>\n",
              "    </div>\n",
              "  </div>\n",
              "  "
            ]
          },
          "metadata": {},
          "execution_count": 20
        }
      ]
    },
    {
      "cell_type": "code",
      "source": [
        "X = data.drop('Unit', axis=1)\n",
        "y = data['Price']"
      ],
      "metadata": {
        "id": "o8zOZHJc7BH-"
      },
      "execution_count": null,
      "outputs": []
    },
    {
      "cell_type": "code",
      "source": [
        "X_train, X_test, y_train, y_test = train_test_split(X, y, test_size=0.2, random_state=42)"
      ],
      "metadata": {
        "id": "JKXTAymA7S4y"
      },
      "execution_count": null,
      "outputs": []
    },
    {
      "cell_type": "code",
      "source": [
        "# Create Gradient Boosting model and fit to training data\n",
        "model = GradientBoostingRegressor(n_estimators=100, learning_rate=0.1, max_depth=3, random_state=42)\n",
        "model.fit(X_train, y_train)"
      ],
      "metadata": {
        "colab": {
          "base_uri": "https://localhost:8080/",
          "height": 75
        },
        "id": "BdldHQTr7WRT",
        "outputId": "763e3936-8672-4387-d9ec-afaa49b7dfea"
      },
      "execution_count": null,
      "outputs": [
        {
          "output_type": "execute_result",
          "data": {
            "text/plain": [
              "GradientBoostingRegressor(random_state=42)"
            ],
            "text/html": [
              "<style>#sk-container-id-2 {color: black;background-color: white;}#sk-container-id-2 pre{padding: 0;}#sk-container-id-2 div.sk-toggleable {background-color: white;}#sk-container-id-2 label.sk-toggleable__label {cursor: pointer;display: block;width: 100%;margin-bottom: 0;padding: 0.3em;box-sizing: border-box;text-align: center;}#sk-container-id-2 label.sk-toggleable__label-arrow:before {content: \"▸\";float: left;margin-right: 0.25em;color: #696969;}#sk-container-id-2 label.sk-toggleable__label-arrow:hover:before {color: black;}#sk-container-id-2 div.sk-estimator:hover label.sk-toggleable__label-arrow:before {color: black;}#sk-container-id-2 div.sk-toggleable__content {max-height: 0;max-width: 0;overflow: hidden;text-align: left;background-color: #f0f8ff;}#sk-container-id-2 div.sk-toggleable__content pre {margin: 0.2em;color: black;border-radius: 0.25em;background-color: #f0f8ff;}#sk-container-id-2 input.sk-toggleable__control:checked~div.sk-toggleable__content {max-height: 200px;max-width: 100%;overflow: auto;}#sk-container-id-2 input.sk-toggleable__control:checked~label.sk-toggleable__label-arrow:before {content: \"▾\";}#sk-container-id-2 div.sk-estimator input.sk-toggleable__control:checked~label.sk-toggleable__label {background-color: #d4ebff;}#sk-container-id-2 div.sk-label input.sk-toggleable__control:checked~label.sk-toggleable__label {background-color: #d4ebff;}#sk-container-id-2 input.sk-hidden--visually {border: 0;clip: rect(1px 1px 1px 1px);clip: rect(1px, 1px, 1px, 1px);height: 1px;margin: -1px;overflow: hidden;padding: 0;position: absolute;width: 1px;}#sk-container-id-2 div.sk-estimator {font-family: monospace;background-color: #f0f8ff;border: 1px dotted black;border-radius: 0.25em;box-sizing: border-box;margin-bottom: 0.5em;}#sk-container-id-2 div.sk-estimator:hover {background-color: #d4ebff;}#sk-container-id-2 div.sk-parallel-item::after {content: \"\";width: 100%;border-bottom: 1px solid gray;flex-grow: 1;}#sk-container-id-2 div.sk-label:hover label.sk-toggleable__label {background-color: #d4ebff;}#sk-container-id-2 div.sk-serial::before {content: \"\";position: absolute;border-left: 1px solid gray;box-sizing: border-box;top: 0;bottom: 0;left: 50%;z-index: 0;}#sk-container-id-2 div.sk-serial {display: flex;flex-direction: column;align-items: center;background-color: white;padding-right: 0.2em;padding-left: 0.2em;position: relative;}#sk-container-id-2 div.sk-item {position: relative;z-index: 1;}#sk-container-id-2 div.sk-parallel {display: flex;align-items: stretch;justify-content: center;background-color: white;position: relative;}#sk-container-id-2 div.sk-item::before, #sk-container-id-2 div.sk-parallel-item::before {content: \"\";position: absolute;border-left: 1px solid gray;box-sizing: border-box;top: 0;bottom: 0;left: 50%;z-index: -1;}#sk-container-id-2 div.sk-parallel-item {display: flex;flex-direction: column;z-index: 1;position: relative;background-color: white;}#sk-container-id-2 div.sk-parallel-item:first-child::after {align-self: flex-end;width: 50%;}#sk-container-id-2 div.sk-parallel-item:last-child::after {align-self: flex-start;width: 50%;}#sk-container-id-2 div.sk-parallel-item:only-child::after {width: 0;}#sk-container-id-2 div.sk-dashed-wrapped {border: 1px dashed gray;margin: 0 0.4em 0.5em 0.4em;box-sizing: border-box;padding-bottom: 0.4em;background-color: white;}#sk-container-id-2 div.sk-label label {font-family: monospace;font-weight: bold;display: inline-block;line-height: 1.2em;}#sk-container-id-2 div.sk-label-container {text-align: center;}#sk-container-id-2 div.sk-container {/* jupyter's `normalize.less` sets `[hidden] { display: none; }` but bootstrap.min.css set `[hidden] { display: none !important; }` so we also need the `!important` here to be able to override the default hidden behavior on the sphinx rendered scikit-learn.org. See: https://github.com/scikit-learn/scikit-learn/issues/21755 */display: inline-block !important;position: relative;}#sk-container-id-2 div.sk-text-repr-fallback {display: none;}</style><div id=\"sk-container-id-2\" class=\"sk-top-container\"><div class=\"sk-text-repr-fallback\"><pre>GradientBoostingRegressor(random_state=42)</pre><b>In a Jupyter environment, please rerun this cell to show the HTML representation or trust the notebook. <br />On GitHub, the HTML representation is unable to render, please try loading this page with nbviewer.org.</b></div><div class=\"sk-container\" hidden><div class=\"sk-item\"><div class=\"sk-estimator sk-toggleable\"><input class=\"sk-toggleable__control sk-hidden--visually\" id=\"sk-estimator-id-2\" type=\"checkbox\" checked><label for=\"sk-estimator-id-2\" class=\"sk-toggleable__label sk-toggleable__label-arrow\">GradientBoostingRegressor</label><div class=\"sk-toggleable__content\"><pre>GradientBoostingRegressor(random_state=42)</pre></div></div></div></div></div>"
            ]
          },
          "metadata": {},
          "execution_count": 23
        }
      ]
    },
    {
      "cell_type": "code",
      "source": [
        "# Make predictions on test data and evaluate model performance\n",
        "y_pred = model.predict(X_test)\n",
        "mse = mean_squared_error(y_test, y_pred)\n",
        "r2 = r2_score(y_test, y_pred)\n",
        "print(\"Mean Squared Error: \", mse)\n",
        "print(\"R-squared: \", r2)"
      ],
      "metadata": {
        "colab": {
          "base_uri": "https://localhost:8080/"
        },
        "id": "M_YE2u187e7K",
        "outputId": "b3a809a1-c0bd-4874-c82f-7ff1617cd37e"
      },
      "execution_count": null,
      "outputs": [
        {
          "output_type": "stream",
          "name": "stdout",
          "text": [
            "Mean Squared Error:  219497.55744405504\n",
            "R-squared:  0.7470679792018399\n"
          ]
        }
      ]
    },
    {
      "cell_type": "code",
      "source": [
        "from yellowbrick.regressor import ResidualsPlot\n",
        "\n",
        "# Assuming 'df' is the dataframe containing the data\n",
        "X = data.drop('Unit', axis=1)\n",
        "y = data['Price']\n",
        "\n",
        "gb = GradientBoostingRegressor()\n",
        "gb.fit(X, y)\n",
        "\n",
        "# Create residual plot\n",
        "visualizer = ResidualsPlot(gb)\n",
        "visualizer.fit(X, y)\n",
        "visualizer.show()\n"
      ],
      "metadata": {
        "colab": {
          "base_uri": "https://localhost:8080/",
          "height": 470
        },
        "id": "dtDnlsVZ_sIv",
        "outputId": "a2eb3264-a611-4525-cab9-1b983f5bfed8"
      },
      "execution_count": null,
      "outputs": [
        {
          "output_type": "stream",
          "name": "stderr",
          "text": [
            "/usr/local/lib/python3.9/dist-packages/sklearn/base.py:439: UserWarning: X does not have valid feature names, but GradientBoostingRegressor was fitted with feature names\n",
            "  warnings.warn(\n"
          ]
        },
        {
          "output_type": "display_data",
          "data": {
            "text/plain": [
              "<Figure size 576x396 with 2 Axes>"
            ],
            "image/png": "[encoded data removed]"
          },
          "metadata": {}
        },
        {
          "output_type": "execute_result",
          "data": {
            "text/plain": [
              "<Axes: title={'center': 'Residuals for GradientBoostingRegressor Model'}, xlabel='Predicted Value', ylabel='Residuals'>"
            ]
          },
          "metadata": {},
          "execution_count": 34
        }
      ]
    },
    {
      "cell_type": "code",
      "source": [
        "import matplotlib.pyplot as plt\n",
        "import numpy as np\n",
        "import pandas as pd\n",
        "import seaborn as sns\n",
        "\n",
        "from sklearn.ensemble import RandomForestRegressor\n",
        "from sklearn.linear_model import LinearRegression, Ridge, Lasso\n",
        "from sklearn.metrics import mean_squared_error, r2_score\n",
        "from sklearn.model_selection import train_test_split\n",
        "from sklearn.pipeline import make_pipeline\n",
        "from sklearn.preprocessing import LabelEncoder, StandardScaler\n",
        "from sklearn.svm import SVR\n",
        "from sklearn.tree import DecisionTreeRegressor\n",
        "from xgboost import XGBRegressor\n",
        "\n",
        "sns.set()"
      ],
      "metadata": {
        "id": "04Kp6lrICprv"
      },
      "execution_count": null,
      "outputs": []
    },
    {
      "cell_type": "code",
      "source": [
        "# Load data\n",
        "data = pd.read_excel('/content/data.xlsx')"
      ],
      "metadata": {
        "id": "rFyXrARCDKvs"
      },
      "execution_count": null,
      "outputs": []
    },
    {
      "cell_type": "code",
      "source": [
        "data.shape"
      ],
      "metadata": {
        "colab": {
          "base_uri": "https://localhost:8080/"
        },
        "id": "lLrJt9tQDRiA",
        "outputId": "22ecd966-5c2d-4e76-9b4c-862dcb13da5a"
      },
      "execution_count": null,
      "outputs": [
        {
          "output_type": "execute_result",
          "data": {
            "text/plain": [
              "(334, 10)"
            ]
          },
          "metadata": {},
          "execution_count": 39
        }
      ]
    },
    {
      "cell_type": "code",
      "source": [
        "data.info()"
      ],
      "metadata": {
        "colab": {
          "base_uri": "https://localhost:8080/"
        },
        "id": "489Y4YTbEzbE",
        "outputId": "92f27949-90f3-476a-cb59-83894f3095e4"
      },
      "execution_count": null,
      "outputs": [
        {
          "output_type": "stream",
          "name": "stdout",
          "text": [
            "<class 'pandas.core.frame.DataFrame'>\n",
            "RangeIndex: 334 entries, 0 to 333\n",
            "Data columns (total 10 columns):\n",
            " #   Column     Non-Null Count  Dtype  \n",
            "---  ------     --------------  -----  \n",
            " 0   Unit       334 non-null    object \n",
            " 1   Price      334 non-null    float64\n",
            " 2   ID         334 non-null    float64\n",
            " 3   wt         334 non-null    float64\n",
            " 4   OD         334 non-null    float64\n",
            " 5   Surcharge  334 non-null    float64\n",
            " 6   dimension  334 non-null    float64\n",
            " 7   kg         334 non-null    float64\n",
            " 8   Energy     334 non-null    float64\n",
            " 9   deliver    334 non-null    int64  \n",
            "dtypes: float64(8), int64(1), object(1)\n",
            "memory usage: 26.2+ KB\n"
          ]
        }
      ]
    },
    {
      "cell_type": "code",
      "source": [
        "data.describe(include='all')"
      ],
      "metadata": {
        "colab": {
          "base_uri": "https://localhost:8080/",
          "height": 458
        },
        "id": "T3IHg2BkE7SZ",
        "outputId": "b3d1c1d8-609e-4c71-dfcc-0cf50d8889ea"
      },
      "execution_count": null,
      "outputs": [
        {
          "output_type": "execute_result",
          "data": {
            "text/plain": [
              "                         Unit        Price          ID          wt  \\\n",
              "count                     334   334.000000  334.000000  334.000000   \n",
              "unique                    102          NaN         NaN         NaN   \n",
              "top     ID12,7_WT1,21_OD15,12          NaN         NaN         NaN   \n",
              "freq                       23          NaN         NaN         NaN   \n",
              "mean                      NaN   439.960688   24.555060    2.078353   \n",
              "std                       NaN   627.355497   14.835753    1.331286   \n",
              "min                       NaN    87.696000    9.500000    1.000000   \n",
              "25%                       NaN   143.825500   12.700000    1.300000   \n",
              "50%                       NaN   219.240000   19.050000    1.680000   \n",
              "75%                       NaN   446.894250   30.162500    2.460000   \n",
              "max                       NaN  6743.926000   88.900000   13.020000   \n",
              "\n",
              "                OD   Surcharge   dimension          kg      Energy     deliver  \n",
              "count   334.000000  334.000000  334.000000  334.000000  334.000000  334.000000  \n",
              "unique         NaN         NaN         NaN         NaN         NaN         NaN  \n",
              "top            NaN         NaN         NaN         NaN         NaN         NaN  \n",
              "freq           NaN         NaN         NaN         NaN         NaN         NaN  \n",
              "mean     28.711766    0.042096    4.156707    1.787470    0.009629    1.284431  \n",
              "std      17.020131    0.027691    2.662572    2.800084    0.019250    0.910366  \n",
              "min      11.900000    0.000000    2.000000    0.316008    0.000000    0.000000  \n",
              "25%      16.860000    0.020000    2.600000    0.466004    0.000000    1.000000  \n",
              "50%      21.730000    0.040000    3.360000    0.851997    0.000000    1.000000  \n",
              "75%      34.742500    0.050000    4.920000    1.882997    0.000000    2.000000  \n",
              "max     114.940000    0.105000   26.040000   32.630154    0.048000    4.000000  "
            ],
            "text/html": [
              "\n",
              "  <div id=\"df-c76f447b-1b8b-4445-af92-b6d61d2465bb\">\n",
              "    <div class=\"colab-df-container\">\n",
              "      <div>\n",
              "<style scoped>\n",
              "    .dataframe tbody tr th:only-of-type {\n",
              "        vertical-align: middle;\n",
              "    }\n",
              "\n",
              "    .dataframe tbody tr th {\n",
              "        vertical-align: top;\n",
              "    }\n",
              "\n",
              "    .dataframe thead th {\n",
              "        text-align: right;\n",
              "    }\n",
              "</style>\n",
              "<table border=\"1\" class=\"dataframe\">\n",
              "  <thead>\n",
              "    <tr style=\"text-align: right;\">\n",
              "      <th></th>\n",
              "      <th>Unit</th>\n",
              "      <th>Price</th>\n",
              "      <th>ID</th>\n",
              "      <th>wt</th>\n",
              "      <th>OD</th>\n",
              "      <th>Surcharge</th>\n",
              "      <th>dimension</th>\n",
              "      <th>kg</th>\n",
              "      <th>Energy</th>\n",
              "      <th>deliver</th>\n",
              "    </tr>\n",
              "  </thead>\n",
              "  <tbody>\n",
              "    <tr>\n",
              "      <th>count</th>\n",
              "      <td>334</td>\n",
              "      <td>334.000000</td>\n",
              "      <td>334.000000</td>\n",
              "      <td>334.000000</td>\n",
              "      <td>334.000000</td>\n",
              "      <td>334.000000</td>\n",
              "      <td>334.000000</td>\n",
              "      <td>334.000000</td>\n",
              "      <td>334.000000</td>\n",
              "      <td>334.000000</td>\n",
              "    </tr>\n",
              "    <tr>\n",
              "      <th>unique</th>\n",
              "      <td>102</td>\n",
              "      <td>NaN</td>\n",
              "      <td>NaN</td>\n",
              "      <td>NaN</td>\n",
              "      <td>NaN</td>\n",
              "      <td>NaN</td>\n",
              "      <td>NaN</td>\n",
              "      <td>NaN</td>\n",
              "      <td>NaN</td>\n",
              "      <td>NaN</td>\n",
              "    </tr>\n",
              "    <tr>\n",
              "      <th>top</th>\n",
              "      <td>ID12,7_WT1,21_OD15,12</td>\n",
              "      <td>NaN</td>\n",
              "      <td>NaN</td>\n",
              "      <td>NaN</td>\n",
              "      <td>NaN</td>\n",
              "      <td>NaN</td>\n",
              "      <td>NaN</td>\n",
              "      <td>NaN</td>\n",
              "      <td>NaN</td>\n",
              "      <td>NaN</td>\n",
              "    </tr>\n",
              "    <tr>\n",
              "      <th>freq</th>\n",
              "      <td>23</td>\n",
              "      <td>NaN</td>\n",
              "      <td>NaN</td>\n",
              "      <td>NaN</td>\n",
              "      <td>NaN</td>\n",
              "      <td>NaN</td>\n",
              "      <td>NaN</td>\n",
              "      <td>NaN</td>\n",
              "      <td>NaN</td>\n",
              "      <td>NaN</td>\n",
              "    </tr>\n",
              "    <tr>\n",
              "      <th>mean</th>\n",
              "      <td>NaN</td>\n",
              "      <td>439.960688</td>\n",
              "      <td>24.555060</td>\n",
              "      <td>2.078353</td>\n",
              "      <td>28.711766</td>\n",
              "      <td>0.042096</td>\n",
              "      <td>4.156707</td>\n",
              "      <td>1.787470</td>\n",
              "      <td>0.009629</td>\n",
              "      <td>1.284431</td>\n",
              "    </tr>\n",
              "    <tr>\n",
              "      <th>std</th>\n",
              "      <td>NaN</td>\n",
              "      <td>627.355497</td>\n",
              "      <td>14.835753</td>\n",
              "      <td>1.331286</td>\n",
              "      <td>17.020131</td>\n",
              "      <td>0.027691</td>\n",
              "      <td>2.662572</td>\n",
              "      <td>2.800084</td>\n",
              "      <td>0.019250</td>\n",
              "      <td>0.910366</td>\n",
              "    </tr>\n",
              "    <tr>\n",
              "      <th>min</th>\n",
              "      <td>NaN</td>\n",
              "      <td>87.696000</td>\n",
              "      <td>9.500000</td>\n",
              "      <td>1.000000</td>\n",
              "      <td>11.900000</td>\n",
              "      <td>0.000000</td>\n",
              "      <td>2.000000</td>\n",
              "      <td>0.316008</td>\n",
              "      <td>0.000000</td>\n",
              "      <td>0.000000</td>\n",
              "    </tr>\n",
              "    <tr>\n",
              "      <th>25%</th>\n",
              "      <td>NaN</td>\n",
              "      <td>143.825500</td>\n",
              "      <td>12.700000</td>\n",
              "      <td>1.300000</td>\n",
              "      <td>16.860000</td>\n",
              "      <td>0.020000</td>\n",
              "      <td>2.600000</td>\n",
              "      <td>0.466004</td>\n",
              "      <td>0.000000</td>\n",
              "      <td>1.000000</td>\n",
              "    </tr>\n",
              "    <tr>\n",
              "      <th>50%</th>\n",
              "      <td>NaN</td>\n",
              "      <td>219.240000</td>\n",
              "      <td>19.050000</td>\n",
              "      <td>1.680000</td>\n",
              "      <td>21.730000</td>\n",
              "      <td>0.040000</td>\n",
              "      <td>3.360000</td>\n",
              "      <td>0.851997</td>\n",
              "      <td>0.000000</td>\n",
              "      <td>1.000000</td>\n",
              "    </tr>\n",
              "    <tr>\n",
              "      <th>75%</th>\n",
              "      <td>NaN</td>\n",
              "      <td>446.894250</td>\n",
              "      <td>30.162500</td>\n",
              "      <td>2.460000</td>\n",
              "      <td>34.742500</td>\n",
              "      <td>0.050000</td>\n",
              "      <td>4.920000</td>\n",
              "      <td>1.882997</td>\n",
              "      <td>0.000000</td>\n",
              "      <td>2.000000</td>\n",
              "    </tr>\n",
              "    <tr>\n",
              "      <th>max</th>\n",
              "      <td>NaN</td>\n",
              "      <td>6743.926000</td>\n",
              "      <td>88.900000</td>\n",
              "      <td>13.020000</td>\n",
              "      <td>114.940000</td>\n",
              "      <td>0.105000</td>\n",
              "      <td>26.040000</td>\n",
              "      <td>32.630154</td>\n",
              "      <td>0.048000</td>\n",
              "      <td>4.000000</td>\n",
              "    </tr>\n",
              "  </tbody>\n",
              "</table>\n",
              "</div>\n",
              "      <button class=\"colab-df-convert\" onclick=\"convertToInteractive('df-c76f447b-1b8b-4445-af92-b6d61d2465bb')\"\n",
              "              title=\"Convert this dataframe to an interactive table.\"\n",
              "              style=\"display:none;\">\n",
              "        \n",
              "  <svg xmlns=\"http://www.w3.org/2000/svg\" height=\"24px\"viewBox=\"0 0 24 24\"\n",
              "       width=\"24px\">\n",
              "    <path d=\"M0 0h24v24H0V0z\" fill=\"none\"/>\n",
              "    <path d=\"M18.56 5.44l.94 2.06.94-2.06 2.06-.94-2.06-.94-.94-2.06-.94 2.06-2.06.94zm-11 1L8.5 8.5l.94-2.06 2.06-.94-2.06-.94L8.5 2.5l-.94 2.06-2.06.94zm10 10l.94 2.06.94-2.06 2.06-.94-2.06-.94-.94-2.06-.94 2.06-2.06.94z\"/><path d=\"M17.41 7.96l-1.37-1.37c-.4-.4-.92-.59-1.43-.59-.52 0-1.04.2-1.43.59L10.3 9.45l-7.72 7.72c-.78.78-.78 2.05 0 2.83L4 21.41c.39.39.9.59 1.41.59.51 0 1.02-.2 1.41-.59l7.78-7.78 2.81-2.81c.8-.78.8-2.07 0-2.86zM5.41 20L4 18.59l7.72-7.72 1.47 1.35L5.41 20z\"/>\n",
              "  </svg>\n",
              "      </button>\n",
              "      \n",
              "  <style>\n",
              "    .colab-df-container {\n",
              "      display:flex;\n",
              "      flex-wrap:wrap;\n",
              "      gap: 12px;\n",
              "    }\n",
              "\n",
              "    .colab-df-convert {\n",
              "      background-color: #E8F0FE;\n",
              "      border: none;\n",
              "      border-radius: 50%;\n",
              "      cursor: pointer;\n",
              "      display: none;\n",
              "      fill: #1967D2;\n",
              "      height: 32px;\n",
              "      padding: 0 0 0 0;\n",
              "      width: 32px;\n",
              "    }\n",
              "\n",
              "    .colab-df-convert:hover {\n",
              "      background-color: #E2EBFA;\n",
              "      box-shadow: 0px 1px 2px rgba(60, 64, 67, 0.3), 0px 1px 3px 1px rgba(60, 64, 67, 0.15);\n",
              "      fill: #174EA6;\n",
              "    }\n",
              "\n",
              "    [theme=dark] .colab-df-convert {\n",
              "      background-color: #3B4455;\n",
              "      fill: #D2E3FC;\n",
              "    }\n",
              "\n",
              "    [theme=dark] .colab-df-convert:hover {\n",
              "      background-color: #434B5C;\n",
              "      box-shadow: 0px 1px 3px 1px rgba(0, 0, 0, 0.15);\n",
              "      filter: drop-shadow(0px 1px 2px rgba(0, 0, 0, 0.3));\n",
              "      fill: #FFFFFF;\n",
              "    }\n",
              "  </style>\n",
              "\n",
              "      <script>\n",
              "        const buttonEl =\n",
              "          document.querySelector('#df-c76f447b-1b8b-4445-af92-b6d61d2465bb button.colab-df-convert');\n",
              "        buttonEl.style.display =\n",
              "          google.colab.kernel.accessAllowed ? 'block' : 'none';\n",
              "\n",
              "        async function convertToInteractive(key) {\n",
              "          const element = document.querySelector('#df-c76f447b-1b8b-4445-af92-b6d61d2465bb');\n",
              "          const dataTable =\n",
              "            await google.colab.kernel.invokeFunction('convertToInteractive',\n",
              "                                                     [key], {});\n",
              "          if (!dataTable) return;\n",
              "\n",
              "          const docLinkHtml = 'Like what you see? Visit the ' +\n",
              "            '<a target=\"_blank\" href=https://colab.research.google.com/notebooks/data_table.ipynb>data table notebook</a>'\n",
              "            + ' to learn more about interactive tables.';\n",
              "          element.innerHTML = '';\n",
              "          dataTable['output_type'] = 'display_data';\n",
              "          await google.colab.output.renderOutput(dataTable, element);\n",
              "          const docLink = document.createElement('div');\n",
              "          docLink.innerHTML = docLinkHtml;\n",
              "          element.appendChild(docLink);\n",
              "        }\n",
              "      </script>\n",
              "    </div>\n",
              "  </div>\n",
              "  "
            ]
          },
          "metadata": {},
          "execution_count": 41
        }
      ]
    },
    {
      "cell_type": "code",
      "source": [
        "data.isna().sum()"
      ],
      "metadata": {
        "colab": {
          "base_uri": "https://localhost:8080/"
        },
        "id": "wUjDAdx1E-kq",
        "outputId": "221e1ecb-f52a-4fb3-9a37-f9c607c0de7b"
      },
      "execution_count": null,
      "outputs": [
        {
          "output_type": "execute_result",
          "data": {
            "text/plain": [
              "Unit         0\n",
              "Price        0\n",
              "ID           0\n",
              "wt           0\n",
              "OD           0\n",
              "Surcharge    0\n",
              "dimension    0\n",
              "kg           0\n",
              "Energy       0\n",
              "deliver      0\n",
              "dtype: int64"
            ]
          },
          "metadata": {},
          "execution_count": 42
        }
      ]
    },
    {
      "cell_type": "code",
      "source": [
        "data.duplicated().any()"
      ],
      "metadata": {
        "colab": {
          "base_uri": "https://localhost:8080/"
        },
        "id": "ren0mRAmFFTd",
        "outputId": "015ee6b1-c94a-4e6f-c26a-34ba7a20f837"
      },
      "execution_count": null,
      "outputs": [
        {
          "output_type": "execute_result",
          "data": {
            "text/plain": [
              "True"
            ]
          },
          "metadata": {},
          "execution_count": 43
        }
      ]
    },
    {
      "cell_type": "code",
      "source": [
        "data.apply(lambda x: len(x.unique()))"
      ],
      "metadata": {
        "colab": {
          "base_uri": "https://localhost:8080/"
        },
        "id": "EfssdHH1FJa9",
        "outputId": "3768adcc-2259-45e2-823d-e2d1d5936f79"
      },
      "execution_count": null,
      "outputs": [
        {
          "output_type": "execute_result",
          "data": {
            "text/plain": [
              "Unit         102\n",
              "Price        293\n",
              "ID            14\n",
              "wt            81\n",
              "OD           102\n",
              "Surcharge     14\n",
              "dimension     95\n",
              "kg           276\n",
              "Energy         2\n",
              "deliver        5\n",
              "dtype: int64"
            ]
          },
          "metadata": {},
          "execution_count": 44
        }
      ]
    },
    {
      "cell_type": "code",
      "source": [
        "cat_cols = data.select_dtypes(exclude='number').columns.to_list()\n",
        "num_cols = data.select_dtypes(include='number').columns.to_list()\n",
        "\n",
        "print('Categorical Columns: ', cat_cols)\n",
        "print('Numerical Columns: ', num_cols)"
      ],
      "metadata": {
        "colab": {
          "base_uri": "https://localhost:8080/"
        },
        "id": "SFX97wpiFPwd",
        "outputId": "94d00058-c57d-4350-ad38-c5dbc8044b6f"
      },
      "execution_count": null,
      "outputs": [
        {
          "output_type": "stream",
          "name": "stdout",
          "text": [
            "Categorical Columns:  ['Unit']\n",
            "Numerical Columns:  ['Price', 'ID', 'wt', 'OD', 'Surcharge', 'dimension', 'kg', 'Energy', 'deliver']\n"
          ]
        }
      ]
    },
    {
      "cell_type": "code",
      "source": [
        "for col in cat_cols:\n",
        "    print('-----------------------------')\n",
        "    print('Series: ', col)\n",
        "    print('-----------------------------')\n",
        "    print(data[col].value_counts())\n",
        "    print('\\n')"
      ],
      "metadata": {
        "colab": {
          "base_uri": "https://localhost:8080/"
        },
        "id": "gC84igNyFX0_",
        "outputId": "62ebb278-9f7b-4e87-db06-d59a349fb1ab"
      },
      "execution_count": null,
      "outputs": [
        {
          "output_type": "stream",
          "name": "stdout",
          "text": [
            "-----------------------------\n",
            "Series:  Unit\n",
            "-----------------------------\n",
            "ID12,7_WT1,21_OD15,12     23\n",
            "ID12,7_WT1_OD14,7         20\n",
            "ID15,88_WT1,3_OD18,48     15\n",
            "ID12,7_WT1,35_OD15,4      13\n",
            "ID15,88_WT1,1_OD18,08     13\n",
            "                          ..\n",
            "ID31,75_WT1,85_OD35,45     1\n",
            "ID31,75_WT4,85_OD41,45     1\n",
            "ID25,4_WT4,54_OD34,48      1\n",
            "ID12,7_WT2,09_OD16,88      1\n",
            "ID63,5_WT4,58_OD72,66      1\n",
            "Name: Unit, Length: 102, dtype: int64\n",
            "\n",
            "\n"
          ]
        }
      ]
    },
    {
      "cell_type": "code",
      "source": [
        "clean_data = data.copy()\n"
      ],
      "metadata": {
        "id": "tOfVHVQUFfDU"
      },
      "execution_count": null,
      "outputs": []
    },
    {
      "cell_type": "code",
      "source": [
        "new_col_names = [col.lower() for col in clean_data.columns]\n",
        "clean_data.columns = new_col_names\n",
        "\n",
        "print(clean_data.columns)"
      ],
      "metadata": {
        "colab": {
          "base_uri": "https://localhost:8080/"
        },
        "id": "l2zJqhZ3Fpwj",
        "outputId": "81f1973d-0feb-4a4e-b988-5bf473c264c1"
      },
      "execution_count": null,
      "outputs": [
        {
          "output_type": "stream",
          "name": "stdout",
          "text": [
            "Index(['unit', 'price', 'id', 'wt', 'od', 'surcharge', 'dimension', 'kg',\n",
            "       'energy', 'deliver'],\n",
            "      dtype='object')\n"
          ]
        }
      ]
    },
    {
      "cell_type": "code",
      "source": [
        "clean_data.head()"
      ],
      "metadata": {
        "colab": {
          "base_uri": "https://localhost:8080/",
          "height": 206
        },
        "id": "9s_y6cJjGIzV",
        "outputId": "6835c481-f95e-40c4-e18c-8eecccd03728"
      },
      "execution_count": null,
      "outputs": [
        {
          "output_type": "execute_result",
          "data": {
            "text/plain": [
              "                     unit     price     id    wt     od  surcharge  dimension  \\\n",
              "0    ID12,7_WT1,35_OD15,4  143.8255  12.70  1.35  15.40       0.08       2.70   \n",
              "1   ID15,88_WT1,3_OD18,48  166.1555  15.88  1.30  18.48       0.08       2.60   \n",
              "2  ID15,88_WT1,52_OD18,92  191.0230  15.88  1.52  18.92       0.08       3.04   \n",
              "3   ID25,4_WT1,77_OD28,94  298.1055  25.40  1.77  28.94       0.08       3.54   \n",
              "4   ID38,1_WT2,67_OD43,44  671.5240  38.10  2.67  43.44       0.08       5.34   \n",
              "\n",
              "         kg  energy  deliver  \n",
              "0  0.466197     0.0        1  \n",
              "1  0.549000     0.0        1  \n",
              "2  0.650004     0.0        1  \n",
              "3  1.183014     0.0        1  \n",
              "4  2.677005     0.0        1  "
            ],
            "text/html": [
              "\n",
              "  <div id=\"df-9a8baa16-1ca2-41c7-8b13-17668ef2c53f\">\n",
              "    <div class=\"colab-df-container\">\n",
              "      <div>\n",
              "<style scoped>\n",
              "    .dataframe tbody tr th:only-of-type {\n",
              "        vertical-align: middle;\n",
              "    }\n",
              "\n",
              "    .dataframe tbody tr th {\n",
              "        vertical-align: top;\n",
              "    }\n",
              "\n",
              "    .dataframe thead th {\n",
              "        text-align: right;\n",
              "    }\n",
              "</style>\n",
              "<table border=\"1\" class=\"dataframe\">\n",
              "  <thead>\n",
              "    <tr style=\"text-align: right;\">\n",
              "      <th></th>\n",
              "      <th>unit</th>\n",
              "      <th>price</th>\n",
              "      <th>id</th>\n",
              "      <th>wt</th>\n",
              "      <th>od</th>\n",
              "      <th>surcharge</th>\n",
              "      <th>dimension</th>\n",
              "      <th>kg</th>\n",
              "      <th>energy</th>\n",
              "      <th>deliver</th>\n",
              "    </tr>\n",
              "  </thead>\n",
              "  <tbody>\n",
              "    <tr>\n",
              "      <th>0</th>\n",
              "      <td>ID12,7_WT1,35_OD15,4</td>\n",
              "      <td>143.8255</td>\n",
              "      <td>12.70</td>\n",
              "      <td>1.35</td>\n",
              "      <td>15.40</td>\n",
              "      <td>0.08</td>\n",
              "      <td>2.70</td>\n",
              "      <td>0.466197</td>\n",
              "      <td>0.0</td>\n",
              "      <td>1</td>\n",
              "    </tr>\n",
              "    <tr>\n",
              "      <th>1</th>\n",
              "      <td>ID15,88_WT1,3_OD18,48</td>\n",
              "      <td>166.1555</td>\n",
              "      <td>15.88</td>\n",
              "      <td>1.30</td>\n",
              "      <td>18.48</td>\n",
              "      <td>0.08</td>\n",
              "      <td>2.60</td>\n",
              "      <td>0.549000</td>\n",
              "      <td>0.0</td>\n",
              "      <td>1</td>\n",
              "    </tr>\n",
              "    <tr>\n",
              "      <th>2</th>\n",
              "      <td>ID15,88_WT1,52_OD18,92</td>\n",
              "      <td>191.0230</td>\n",
              "      <td>15.88</td>\n",
              "      <td>1.52</td>\n",
              "      <td>18.92</td>\n",
              "      <td>0.08</td>\n",
              "      <td>3.04</td>\n",
              "      <td>0.650004</td>\n",
              "      <td>0.0</td>\n",
              "      <td>1</td>\n",
              "    </tr>\n",
              "    <tr>\n",
              "      <th>3</th>\n",
              "      <td>ID25,4_WT1,77_OD28,94</td>\n",
              "      <td>298.1055</td>\n",
              "      <td>25.40</td>\n",
              "      <td>1.77</td>\n",
              "      <td>28.94</td>\n",
              "      <td>0.08</td>\n",
              "      <td>3.54</td>\n",
              "      <td>1.183014</td>\n",
              "      <td>0.0</td>\n",
              "      <td>1</td>\n",
              "    </tr>\n",
              "    <tr>\n",
              "      <th>4</th>\n",
              "      <td>ID38,1_WT2,67_OD43,44</td>\n",
              "      <td>671.5240</td>\n",
              "      <td>38.10</td>\n",
              "      <td>2.67</td>\n",
              "      <td>43.44</td>\n",
              "      <td>0.08</td>\n",
              "      <td>5.34</td>\n",
              "      <td>2.677005</td>\n",
              "      <td>0.0</td>\n",
              "      <td>1</td>\n",
              "    </tr>\n",
              "  </tbody>\n",
              "</table>\n",
              "</div>\n",
              "      <button class=\"colab-df-convert\" onclick=\"convertToInteractive('df-9a8baa16-1ca2-41c7-8b13-17668ef2c53f')\"\n",
              "              title=\"Convert this dataframe to an interactive table.\"\n",
              "              style=\"display:none;\">\n",
              "        \n",
              "  <svg xmlns=\"http://www.w3.org/2000/svg\" height=\"24px\"viewBox=\"0 0 24 24\"\n",
              "       width=\"24px\">\n",
              "    <path d=\"M0 0h24v24H0V0z\" fill=\"none\"/>\n",
              "    <path d=\"M18.56 5.44l.94 2.06.94-2.06 2.06-.94-2.06-.94-.94-2.06-.94 2.06-2.06.94zm-11 1L8.5 8.5l.94-2.06 2.06-.94-2.06-.94L8.5 2.5l-.94 2.06-2.06.94zm10 10l.94 2.06.94-2.06 2.06-.94-2.06-.94-.94-2.06-.94 2.06-2.06.94z\"/><path d=\"M17.41 7.96l-1.37-1.37c-.4-.4-.92-.59-1.43-.59-.52 0-1.04.2-1.43.59L10.3 9.45l-7.72 7.72c-.78.78-.78 2.05 0 2.83L4 21.41c.39.39.9.59 1.41.59.51 0 1.02-.2 1.41-.59l7.78-7.78 2.81-2.81c.8-.78.8-2.07 0-2.86zM5.41 20L4 18.59l7.72-7.72 1.47 1.35L5.41 20z\"/>\n",
              "  </svg>\n",
              "      </button>\n",
              "      \n",
              "  <style>\n",
              "    .colab-df-container {\n",
              "      display:flex;\n",
              "      flex-wrap:wrap;\n",
              "      gap: 12px;\n",
              "    }\n",
              "\n",
              "    .colab-df-convert {\n",
              "      background-color: #E8F0FE;\n",
              "      border: none;\n",
              "      border-radius: 50%;\n",
              "      cursor: pointer;\n",
              "      display: none;\n",
              "      fill: #1967D2;\n",
              "      height: 32px;\n",
              "      padding: 0 0 0 0;\n",
              "      width: 32px;\n",
              "    }\n",
              "\n",
              "    .colab-df-convert:hover {\n",
              "      background-color: #E2EBFA;\n",
              "      box-shadow: 0px 1px 2px rgba(60, 64, 67, 0.3), 0px 1px 3px 1px rgba(60, 64, 67, 0.15);\n",
              "      fill: #174EA6;\n",
              "    }\n",
              "\n",
              "    [theme=dark] .colab-df-convert {\n",
              "      background-color: #3B4455;\n",
              "      fill: #D2E3FC;\n",
              "    }\n",
              "\n",
              "    [theme=dark] .colab-df-convert:hover {\n",
              "      background-color: #434B5C;\n",
              "      box-shadow: 0px 1px 3px 1px rgba(0, 0, 0, 0.15);\n",
              "      filter: drop-shadow(0px 1px 2px rgba(0, 0, 0, 0.3));\n",
              "      fill: #FFFFFF;\n",
              "    }\n",
              "  </style>\n",
              "\n",
              "      <script>\n",
              "        const buttonEl =\n",
              "          document.querySelector('#df-9a8baa16-1ca2-41c7-8b13-17668ef2c53f button.colab-df-convert');\n",
              "        buttonEl.style.display =\n",
              "          google.colab.kernel.accessAllowed ? 'block' : 'none';\n",
              "\n",
              "        async function convertToInteractive(key) {\n",
              "          const element = document.querySelector('#df-9a8baa16-1ca2-41c7-8b13-17668ef2c53f');\n",
              "          const dataTable =\n",
              "            await google.colab.kernel.invokeFunction('convertToInteractive',\n",
              "                                                     [key], {});\n",
              "          if (!dataTable) return;\n",
              "\n",
              "          const docLinkHtml = 'Like what you see? Visit the ' +\n",
              "            '<a target=\"_blank\" href=https://colab.research.google.com/notebooks/data_table.ipynb>data table notebook</a>'\n",
              "            + ' to learn more about interactive tables.';\n",
              "          element.innerHTML = '';\n",
              "          dataTable['output_type'] = 'display_data';\n",
              "          await google.colab.output.renderOutput(dataTable, element);\n",
              "          const docLink = document.createElement('div');\n",
              "          docLink.innerHTML = docLinkHtml;\n",
              "          element.appendChild(docLink);\n",
              "        }\n",
              "      </script>\n",
              "    </div>\n",
              "  </div>\n",
              "  "
            ]
          },
          "metadata": {},
          "execution_count": 50
        }
      ]
    },
    {
      "cell_type": "code",
      "source": [
        "clean_data.hist(figsize=(12,8))"
      ],
      "metadata": {
        "colab": {
          "base_uri": "https://localhost:8080/",
          "height": 653
        },
        "id": "e77co1fuGwkK",
        "outputId": "d5d3eb50-6a9b-4b41-aa7c-ae1257073be1"
      },
      "execution_count": null,
      "outputs": [
        {
          "output_type": "execute_result",
          "data": {
            "text/plain": [
              "array([[<Axes: title={'center': 'price'}>,\n",
              "        <Axes: title={'center': 'id'}>, <Axes: title={'center': 'wt'}>],\n",
              "       [<Axes: title={'center': 'od'}>,\n",
              "        <Axes: title={'center': 'surcharge'}>,\n",
              "        <Axes: title={'center': 'dimension'}>],\n",
              "       [<Axes: title={'center': 'kg'}>,\n",
              "        <Axes: title={'center': 'energy'}>,\n",
              "        <Axes: title={'center': 'deliver'}>]], dtype=object)"
            ]
          },
          "metadata": {},
          "execution_count": 54
        },
        {
          "output_type": "display_data",
          "data": {
            "text/plain": [
              "<Figure size 864x576 with 9 Axes>"
            ],
            "image/png": "[encoded data removed]"
          },
          "metadata": {}
        }
      ]
    },
    {
      "cell_type": "code",
      "source": [
        "corr_matrix = clean_data.corr()\n",
        "corr_matrix['price'].sort_values(ascending=False)"
      ],
      "metadata": {
        "colab": {
          "base_uri": "https://localhost:8080/"
        },
        "id": "v9M2rj9uH289",
        "outputId": "aa0ab760-9afd-4990-9aff-e1b66b09dc99"
      },
      "execution_count": null,
      "outputs": [
        {
          "output_type": "execute_result",
          "data": {
            "text/plain": [
              "price        1.000000\n",
              "kg           0.992948\n",
              "wt           0.941492\n",
              "dimension    0.941492\n",
              "od           0.883100\n",
              "id           0.844156\n",
              "deliver      0.156540\n",
              "energy       0.068615\n",
              "surcharge   -0.010554\n",
              "Name: price, dtype: float64"
            ]
          },
          "metadata": {},
          "execution_count": 65
        }
      ]
    },
    {
      "cell_type": "code",
      "source": [
        "sns.heatmap(corr_matrix, annot=True, cmap='coolwarm')"
      ],
      "metadata": {
        "colab": {
          "base_uri": "https://localhost:8080/",
          "height": 422
        },
        "id": "RTW5XTv8IAO9",
        "outputId": "85877d41-f8a2-421d-fabc-9d16d6620488"
      },
      "execution_count": null,
      "outputs": [
        {
          "output_type": "execute_result",
          "data": {
            "text/plain": [
              "<Axes: >"
            ]
          },
          "metadata": {},
          "execution_count": 66
        },
        {
          "output_type": "display_data",
          "data": {
            "text/plain": [
              "<Figure size 576x396 with 2 Axes>"
            ],
            "image/png": "[encoded data removed]"
          },
          "metadata": {}
        }
      ]
    },
    {
      "cell_type": "code",
      "source": [
        "sns.scatterplot(data=clean_data, x='id', y='price')"
      ],
      "metadata": {
        "colab": {
          "base_uri": "https://localhost:8080/",
          "height": 389
        },
        "id": "jBh6xlvfIHyD",
        "outputId": "cacb6d56-c5c7-4752-fc2c-5b47a2557b3b"
      },
      "execution_count": null,
      "outputs": [
        {
          "output_type": "execute_result",
          "data": {
            "text/plain": [
              "<Axes: xlabel='id', ylabel='price'>"
            ]
          },
          "metadata": {},
          "execution_count": 69
        },
        {
          "output_type": "display_data",
          "data": {
            "text/plain": [
              "<Figure size 576x396 with 1 Axes>"
            ],
            "image/png": "[encoded data removed]"
          },
          "metadata": {}
        }
      ]
    },
    {
      "cell_type": "code",
      "source": [
        "X = data.drop('Unit', axis=1)\n",
        "y = data['Price']"
      ],
      "metadata": {
        "id": "lnulonZwJXs0"
      },
      "execution_count": null,
      "outputs": []
    },
    {
      "cell_type": "code",
      "source": [
        "model_scores = pd.DataFrame(columns=['model', 'rmse', 'r2_score'])"
      ],
      "metadata": {
        "id": "3eHudBcjJh6U"
      },
      "execution_count": null,
      "outputs": []
    },
    {
      "cell_type": "code",
      "source": [
        "def train_and_evaluate_model(model_name, model, X, y):\n",
        "    '''\n",
        "    Create a training pipeline to scale and train the model\n",
        "    using the input data, then evaluate the model and safe its error\n",
        "    and score in the scores dataframe.\n",
        "    '''\n",
        "    # split the data\n",
        "    X_train, X_validate, y_train, y_validate = train_test_split(X, y, test_size=0.2, random_state=42)\n",
        "    \n",
        "    # create a training pipeline\n",
        "    pipeline = make_pipeline(StandardScaler(), model)\n",
        "    \n",
        "    # apply scaling on training data and train the model\n",
        "    pipeline.fit(X_train, y_train)\n",
        "    \n",
        "    # predict the validation set\n",
        "    y_hat = pipeline.predict(X_validate)\n",
        "    \n",
        "    # evaluate the model\n",
        "    rmse = np.sqrt(mean_squared_error(y_validate, y_hat))\n",
        "    model_score = r2_score(y_validate, y_hat)\n",
        "    \n",
        "    # adding error and score, to the scores datafrane\n",
        "    model_scores.loc[len(model_scores)] = [model_name, rmse, model_score]\n",
        "    \n",
        "    print('----------------------------------')\n",
        "    print(model_name, ' Report:')\n",
        "    print('----------------------------------')\n",
        "    print('RMSE: ', rmse)\n",
        "    print('R2 Score: ', model_score)"
      ],
      "metadata": {
        "id": "iUTTBJoDJq3B"
      },
      "execution_count": null,
      "outputs": []
    },
    {
      "cell_type": "code",
      "source": [
        "# linear regression\n",
        "linear_regression_model = LinearRegression()\n",
        "train_and_evaluate_model('Linear Regression', linear_regression_model, X, y)"
      ],
      "metadata": {
        "colab": {
          "base_uri": "https://localhost:8080/"
        },
        "id": "f7CvMyM4J0Hy",
        "outputId": "92797825-9779-40ef-cedc-1616539ea6c6"
      },
      "execution_count": null,
      "outputs": [
        {
          "output_type": "stream",
          "name": "stdout",
          "text": [
            "----------------------------------\n",
            "Linear Regression  Report:\n",
            "----------------------------------\n",
            "RMSE:  3.1429268358504953e-13\n",
            "R2 Score:  1.0\n"
          ]
        }
      ]
    },
    {
      "cell_type": "code",
      "source": [
        "ridge_model = Ridge()\n",
        "train_and_evaluate_model('Ridge', ridge_model, X, y)"
      ],
      "metadata": {
        "colab": {
          "base_uri": "https://localhost:8080/"
        },
        "id": "3Sy1_6SoJ6FG",
        "outputId": "44bbf0a5-8bd9-4525-f342-ed57b16b1c4c"
      },
      "execution_count": null,
      "outputs": [
        {
          "output_type": "stream",
          "name": "stdout",
          "text": [
            "----------------------------------\n",
            "Ridge  Report:\n",
            "----------------------------------\n",
            "RMSE:  22.473179432999004\n",
            "R2 Score:  0.9994180265655257\n"
          ]
        }
      ]
    },
    {
      "cell_type": "code",
      "source": [
        "lasso_model = Lasso()\n",
        "train_and_evaluate_model('Lasso', lasso_model, X, y)"
      ],
      "metadata": {
        "colab": {
          "base_uri": "https://localhost:8080/"
        },
        "id": "abY2Ytb3J-3s",
        "outputId": "08618a24-9946-4674-c115-de5acad23188"
      },
      "execution_count": null,
      "outputs": [
        {
          "output_type": "stream",
          "name": "stdout",
          "text": [
            "----------------------------------\n",
            "Lasso  Report:\n",
            "----------------------------------\n",
            "RMSE:  1.8289397059585686\n",
            "R2 Score:  0.9999961454569637\n"
          ]
        }
      ]
    },
    {
      "cell_type": "code",
      "source": [
        "svr_model = SVR()\n",
        "train_and_evaluate_model('SVM', svr_model, X, y)"
      ],
      "metadata": {
        "colab": {
          "base_uri": "https://localhost:8080/"
        },
        "id": "uukqWVdlKEcd",
        "outputId": "2c8e8cde-347a-4a99-9ec3-397b49193858"
      },
      "execution_count": null,
      "outputs": [
        {
          "output_type": "stream",
          "name": "stdout",
          "text": [
            "----------------------------------\n",
            "SVM  Report:\n",
            "----------------------------------\n",
            "RMSE:  983.7516326669394\n",
            "R2 Score:  -0.11518021121271271\n"
          ]
        }
      ]
    },
    {
      "cell_type": "code",
      "source": [
        "# decision tree\n",
        "dtr_model = DecisionTreeRegressor()\n",
        "train_and_evaluate_model('Decision Tree', dtr_model, X, y)"
      ],
      "metadata": {
        "colab": {
          "base_uri": "https://localhost:8080/"
        },
        "id": "Kj5jiWYUKHWV",
        "outputId": "92eeec89-e163-4350-f5f8-bc9351beeece"
      },
      "execution_count": null,
      "outputs": [
        {
          "output_type": "stream",
          "name": "stdout",
          "text": [
            "----------------------------------\n",
            "Decision Tree  Report:\n",
            "----------------------------------\n",
            "RMSE:  463.5026174947145\n",
            "R2 Score:  0.7524411229067773\n"
          ]
        }
      ]
    },
    {
      "cell_type": "code",
      "source": [
        "# random forest\n",
        "rfr_model = RandomForestRegressor()\n",
        "train_and_evaluate_model('Random Forest', rfr_model, X, y)"
      ],
      "metadata": {
        "colab": {
          "base_uri": "https://localhost:8080/"
        },
        "id": "Obopr1MVKJP_",
        "outputId": "19733def-bead-4332-fd61-e52e9c0ce715"
      },
      "execution_count": null,
      "outputs": [
        {
          "output_type": "stream",
          "name": "stdout",
          "text": [
            "----------------------------------\n",
            "Random Forest  Report:\n",
            "----------------------------------\n",
            "RMSE:  491.81915791116126\n",
            "R2 Score:  0.721269171448355\n"
          ]
        }
      ]
    },
    {
      "cell_type": "code",
      "source": [
        "# xgboost\n",
        "xgbr_model = XGBRegressor()\n",
        "train_and_evaluate_model('XGBoost', xgbr_model, X, y)"
      ],
      "metadata": {
        "colab": {
          "base_uri": "https://localhost:8080/"
        },
        "id": "ghmra2b9KNIV",
        "outputId": "5e64e8f0-54cb-412a-8c43-daae94f4b0d4"
      },
      "execution_count": null,
      "outputs": [
        {
          "output_type": "stream",
          "name": "stdout",
          "text": [
            "----------------------------------\n",
            "XGBoost  Report:\n",
            "----------------------------------\n",
            "RMSE:  445.2534434999793\n",
            "R2 Score:  0.771551297479684\n"
          ]
        }
      ]
    },
    {
      "cell_type": "code",
      "source": [
        "model_scores"
      ],
      "metadata": {
        "colab": {
          "base_uri": "https://localhost:8080/",
          "height": 269
        },
        "id": "hxuYgcJ-KQpN",
        "outputId": "6e29a6a8-5afa-4b2e-b103-41f1f353f0e1"
      },
      "execution_count": null,
      "outputs": [
        {
          "output_type": "execute_result",
          "data": {
            "text/plain": [
              "               model          rmse  r2_score\n",
              "0  Linear Regression  3.142927e-13  1.000000\n",
              "1              Ridge  2.247318e+01  0.999418\n",
              "2              Lasso  1.828940e+00  0.999996\n",
              "3                SVM  9.837516e+02 -0.115180\n",
              "4      Decision Tree  4.635026e+02  0.752441\n",
              "5      Random Forest  4.918192e+02  0.721269\n",
              "6            XGBoost  4.452534e+02  0.771551"
            ],
            "text/html": [
              "\n",
              "  <div id=\"df-3158ba51-060f-453d-a43c-06eafd3a0041\">\n",
              "    <div class=\"colab-df-container\">\n",
              "      <div>\n",
              "<style scoped>\n",
              "    .dataframe tbody tr th:only-of-type {\n",
              "        vertical-align: middle;\n",
              "    }\n",
              "\n",
              "    .dataframe tbody tr th {\n",
              "        vertical-align: top;\n",
              "    }\n",
              "\n",
              "    .dataframe thead th {\n",
              "        text-align: right;\n",
              "    }\n",
              "</style>\n",
              "<table border=\"1\" class=\"dataframe\">\n",
              "  <thead>\n",
              "    <tr style=\"text-align: right;\">\n",
              "      <th></th>\n",
              "      <th>model</th>\n",
              "      <th>rmse</th>\n",
              "      <th>r2_score</th>\n",
              "    </tr>\n",
              "  </thead>\n",
              "  <tbody>\n",
              "    <tr>\n",
              "      <th>0</th>\n",
              "      <td>Linear Regression</td>\n",
              "      <td>3.142927e-13</td>\n",
              "      <td>1.000000</td>\n",
              "    </tr>\n",
              "    <tr>\n",
              "      <th>1</th>\n",
              "      <td>Ridge</td>\n",
              "      <td>2.247318e+01</td>\n",
              "      <td>0.999418</td>\n",
              "    </tr>\n",
              "    <tr>\n",
              "      <th>2</th>\n",
              "      <td>Lasso</td>\n",
              "      <td>1.828940e+00</td>\n",
              "      <td>0.999996</td>\n",
              "    </tr>\n",
              "    <tr>\n",
              "      <th>3</th>\n",
              "      <td>SVM</td>\n",
              "      <td>9.837516e+02</td>\n",
              "      <td>-0.115180</td>\n",
              "    </tr>\n",
              "    <tr>\n",
              "      <th>4</th>\n",
              "      <td>Decision Tree</td>\n",
              "      <td>4.635026e+02</td>\n",
              "      <td>0.752441</td>\n",
              "    </tr>\n",
              "    <tr>\n",
              "      <th>5</th>\n",
              "      <td>Random Forest</td>\n",
              "      <td>4.918192e+02</td>\n",
              "      <td>0.721269</td>\n",
              "    </tr>\n",
              "    <tr>\n",
              "      <th>6</th>\n",
              "      <td>XGBoost</td>\n",
              "      <td>4.452534e+02</td>\n",
              "      <td>0.771551</td>\n",
              "    </tr>\n",
              "  </tbody>\n",
              "</table>\n",
              "</div>\n",
              "      <button class=\"colab-df-convert\" onclick=\"convertToInteractive('df-3158ba51-060f-453d-a43c-06eafd3a0041')\"\n",
              "              title=\"Convert this dataframe to an interactive table.\"\n",
              "              style=\"display:none;\">\n",
              "        \n",
              "  <svg xmlns=\"http://www.w3.org/2000/svg\" height=\"24px\"viewBox=\"0 0 24 24\"\n",
              "       width=\"24px\">\n",
              "    <path d=\"M0 0h24v24H0V0z\" fill=\"none\"/>\n",
              "    <path d=\"M18.56 5.44l.94 2.06.94-2.06 2.06-.94-2.06-.94-.94-2.06-.94 2.06-2.06.94zm-11 1L8.5 8.5l.94-2.06 2.06-.94-2.06-.94L8.5 2.5l-.94 2.06-2.06.94zm10 10l.94 2.06.94-2.06 2.06-.94-2.06-.94-.94-2.06-.94 2.06-2.06.94z\"/><path d=\"M17.41 7.96l-1.37-1.37c-.4-.4-.92-.59-1.43-.59-.52 0-1.04.2-1.43.59L10.3 9.45l-7.72 7.72c-.78.78-.78 2.05 0 2.83L4 21.41c.39.39.9.59 1.41.59.51 0 1.02-.2 1.41-.59l7.78-7.78 2.81-2.81c.8-.78.8-2.07 0-2.86zM5.41 20L4 18.59l7.72-7.72 1.47 1.35L5.41 20z\"/>\n",
              "  </svg>\n",
              "      </button>\n",
              "      \n",
              "  <style>\n",
              "    .colab-df-container {\n",
              "      display:flex;\n",
              "      flex-wrap:wrap;\n",
              "      gap: 12px;\n",
              "    }\n",
              "\n",
              "    .colab-df-convert {\n",
              "      background-color: #E8F0FE;\n",
              "      border: none;\n",
              "      border-radius: 50%;\n",
              "      cursor: pointer;\n",
              "      display: none;\n",
              "      fill: #1967D2;\n",
              "      height: 32px;\n",
              "      padding: 0 0 0 0;\n",
              "      width: 32px;\n",
              "    }\n",
              "\n",
              "    .colab-df-convert:hover {\n",
              "      background-color: #E2EBFA;\n",
              "      box-shadow: 0px 1px 2px rgba(60, 64, 67, 0.3), 0px 1px 3px 1px rgba(60, 64, 67, 0.15);\n",
              "      fill: #174EA6;\n",
              "    }\n",
              "\n",
              "    [theme=dark] .colab-df-convert {\n",
              "      background-color: #3B4455;\n",
              "      fill: #D2E3FC;\n",
              "    }\n",
              "\n",
              "    [theme=dark] .colab-df-convert:hover {\n",
              "      background-color: #434B5C;\n",
              "      box-shadow: 0px 1px 3px 1px rgba(0, 0, 0, 0.15);\n",
              "      filter: drop-shadow(0px 1px 2px rgba(0, 0, 0, 0.3));\n",
              "      fill: #FFFFFF;\n",
              "    }\n",
              "  </style>\n",
              "\n",
              "      <script>\n",
              "        const buttonEl =\n",
              "          document.querySelector('#df-3158ba51-060f-453d-a43c-06eafd3a0041 button.colab-df-convert');\n",
              "        buttonEl.style.display =\n",
              "          google.colab.kernel.accessAllowed ? 'block' : 'none';\n",
              "\n",
              "        async function convertToInteractive(key) {\n",
              "          const element = document.querySelector('#df-3158ba51-060f-453d-a43c-06eafd3a0041');\n",
              "          const dataTable =\n",
              "            await google.colab.kernel.invokeFunction('convertToInteractive',\n",
              "                                                     [key], {});\n",
              "          if (!dataTable) return;\n",
              "\n",
              "          const docLinkHtml = 'Like what you see? Visit the ' +\n",
              "            '<a target=\"_blank\" href=https://colab.research.google.com/notebooks/data_table.ipynb>data table notebook</a>'\n",
              "            + ' to learn more about interactive tables.';\n",
              "          element.innerHTML = '';\n",
              "          dataTable['output_type'] = 'display_data';\n",
              "          await google.colab.output.renderOutput(dataTable, element);\n",
              "          const docLink = document.createElement('div');\n",
              "          docLink.innerHTML = docLinkHtml;\n",
              "          element.appendChild(docLink);\n",
              "        }\n",
              "      </script>\n",
              "    </div>\n",
              "  </div>\n",
              "  "
            ]
          },
          "metadata": {},
          "execution_count": 82
        }
      ]
    },
    {
      "cell_type": "code",
      "source": [
        "from sklearn.model_selection import train_test_split\n",
        "import pandas as pd\n",
        "\n",
        "# Load your dataset into a pandas DataFrame\n",
        "data = pd.read_excel('/content/data.xlsx')\n",
        "\n",
        "# Split the data into training and testing sets\n",
        "train_data, test_data = train_test_split(data, test_size=0.2, random_state=42)\n",
        "\n",
        "# Print the sizes of the training and testing sets\n",
        "print(f\"Training data size: {len(train_data)}\")\n",
        "print(f\"Testing data size: {len(test_data)}\")"
      ],
      "metadata": {
        "colab": {
          "base_uri": "https://localhost:8080/"
        },
        "id": "8QH9dcQGSp7m",
        "outputId": "3f5c710e-68c6-4cf3-cdca-91d84cc3c20e"
      },
      "execution_count": null,
      "outputs": [
        {
          "output_type": "stream",
          "name": "stdout",
          "text": [
            "Training data size: 267\n",
            "Testing data size: 67\n"
          ]
        }
      ]
    }
  ]
}